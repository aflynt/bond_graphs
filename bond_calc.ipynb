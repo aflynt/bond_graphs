{
 "cells": [
  {
   "cell_type": "code",
   "execution_count": 1,
   "metadata": {},
   "outputs": [],
   "source": [
    "from bg import *"
   ]
  },
  {
   "cell_type": "code",
   "execution_count": 2,
   "metadata": {},
   "outputs": [],
   "source": [
    "bgsys = system([])"
   ]
  },
  {
   "cell_type": "code",
   "execution_count": 3,
   "metadata": {},
   "outputs": [],
   "source": [
    "bonds = []"
   ]
  },
  {
   "cell_type": "code",
   "execution_count": 4,
   "metadata": {},
   "outputs": [],
   "source": [
    "# TEST CASE 1\n",
    "#bonds.append(bond.from_bond_string('[SE   ]   __ 1__>| [1J   ]'))\n",
    "#bonds.append(bond.from_bond_string('[I2   ] |<__ 2__   [1J   ]'))\n",
    "#bonds.append(bond.from_bond_string('[C3   ]  <__ 3__ | [1J   ]'))\n",
    "#bonds.append(bond.from_bond_string('[1J   ] | __ 4__>  [R    ]'))\n",
    "#bonds.append(bond.from_bond_string('[1J   ] | __ 5__>  [TF_m ]'))\n",
    "#bonds.append(bond.from_bond_string('[TF_m ] | __ 6__>  [0J   ]'))\n",
    "#bonds.append(bond.from_bond_string('[0J   ] | __ 7__>  [C7   ]'))\n",
    "#bonds.append(bond.from_bond_string('[0J   ]   __ 8__>| [I8   ]'))"
   ]
  },
  {
   "cell_type": "code",
   "execution_count": 5,
   "metadata": {},
   "outputs": [],
   "source": [
    "# FOUR bond system\n",
    "#bonds.append(bond.from_bond_string('[SE   ]   __ 1__>| [1J-1 ]' ))\n",
    "#bonds.append(bond.from_bond_string('[Im   ] |<__ 3__   [1J-1 ]' ))\n",
    "#bonds.append(bond.from_bond_string('[Rd   ]  <__ 4__ | [1J-1 ]' ))\n",
    "#bonds.append(bond.from_bond_string('[Cs   ]  <__ 2__ | [1J-1 ]' ))"
   ]
  },
  {
   "cell_type": "code",
   "execution_count": 6,
   "metadata": {},
   "outputs": [],
   "source": [
    "# FIG 5.15 Example\n",
    "\n",
    "bonds.append(bond.from_bond_string('[SF:1 ] | __ 1__>  [0J-1 ]' ))\n",
    "bonds.append(bond.from_bond_string('[0J-1 ] | __ 2__>  [C:2  ]' ))\n",
    "bonds.append(bond.from_bond_string('[0J-1 ]   __ 3__>| [1J-1 ]' ))\n",
    "bonds.append(bond.from_bond_string('[SE:4 ]  <__ 4__ | [1J-1 ]' ))\n",
    "bonds.append(bond.from_bond_string('[1J-1 ]   __ 5__>| [I:5  ]' ))\n",
    "bonds.append(bond.from_bond_string('[1J-1 ] | __ 6__>  [0J-2 ]' ))\n",
    "bonds.append(bond.from_bond_string('[0J-2 ] | __ 7__>  [1J-3 ]' ))\n",
    "bonds.append(bond.from_bond_string('[1J-3 ] | __ 8__>  [R:8  ]' ))\n",
    "bonds.append(bond.from_bond_string('[1J-3 ] | __ 9__>  [C:9  ]' ))\n",
    "bonds.append(bond.from_bond_string('[0J-2 ]   __10__>| [1J-2 ]' ))\n",
    "bonds.append(bond.from_bond_string('[SE:11]  <__11__ | [1J-2 ]' ))\n",
    "bonds.append(bond.from_bond_string('[1J-2 ]   __12__>| [I:12 ]' ))"
   ]
  },
  {
   "cell_type": "code",
   "execution_count": 7,
   "metadata": {},
   "outputs": [],
   "source": [
    "# TFE MODEL\n",
    "#bonds.append(bond( 15 ,    'I', '1J-5'  , 'L' , 'L'))\n",
    "#bonds.append(bond( 14 , '1J-5', 'TF.Ab'  , 'L' , 'L'))\n",
    "#bonds.append(bond( 13 ,'TF.Ab', '1J-4'  , 'L' , 'L'))\n",
    "#bonds.append(bond( 12 ,   'Rb', '1J-4'  , 'R' , 'L'))\n",
    "#bonds.append(bond.from_bond_string('[SE   ]  <__16__ | [1J-5 ]' ))\n",
    "#bonds.append(bond.from_bond_string('[1J-4 ] |<__11__   [0J-1 ]' ))\n",
    "#bonds.append(bond.from_bond_string('[0J-1 ] | __10__>  [1J-3 ]' ))\n",
    "#bonds.append(bond.from_bond_string('[Rv40 ]  <__ 9__ | [1J-3 ]' ))\n",
    "#bonds.append(bond.from_bond_string('[1J-3 ] | __ 8__>  [Rl40 ]' ))\n",
    "#bonds.append(bond.from_bond_string('[1J-3 ] | __ 7__>  [0J-2 ]' ))\n",
    "#bonds.append(bond.from_bond_string('[1J-2 ] | __ 6__>  [Cacc1]' ))\n",
    "#bonds.append(bond.from_bond_string('[Rp2  ]  <__ 5__ | [1J-2 ]' ))\n",
    "#bonds.append(bond.from_bond_string('[0J-2 ] | __ 4__>  [1J-2 ]' ))\n",
    "#bonds.append(bond.from_bond_string('[0J-2 ]   __ 3__>| [1J-1 ]' ))\n",
    "#bonds.append(bond.from_bond_string('[1J-1 ]   __ 2__>| [Rp3  ]' ))\n",
    "#bonds.append(bond.from_bond_string('[1J-1 ] | __ 1__>  [Cacc2]' ))\n",
    "#bonds.append(bond.from_bond_string('[1J-5 ] | __17__>  [TF.an]' ))\n",
    "#bonds.append(bond.from_bond_string('[TF.an] | __18__>  [1J-6 ]' ))\n",
    "#bonds.append(bond.from_bond_string('[Ra   ]  <__19__ | [1J-6 ]' ))\n",
    "#bonds.append(bond.from_bond_string('[1J-6 ] | __20__>  [Rv70 ]' ))\n",
    "#bonds.append(bond.from_bond_string('[1J-6 ] | __21__>  [Rv20 ]' ))\n",
    "#bonds.append(bond.from_bond_string('[1J-6 ] | __22__>  [0J-1 ]' ))"
   ]
  },
  {
   "cell_type": "code",
   "execution_count": 8,
   "metadata": {},
   "outputs": [
    {
     "name": "stdout",
     "output_type": "stream",
     "text": [
      "system([bond(1,\"SF:1\",\"0J-1\",\"L\", \"R\"),\n",
      "bond(2,\"0J-1\",\"C:2\",\"L\", \"R\"),\n",
      "bond(3,\"0J-1\",\"1J-1\",\"R\", \"R\"),\n",
      "bond(4,\"SE:4\",\"1J-1\",\"R\", \"L\"),\n",
      "bond(5,\"1J-1\",\"I:5\",\"R\", \"R\"),\n",
      "bond(6,\"1J-1\",\"0J-2\",\"L\", \"R\"),\n",
      "bond(7,\"0J-2\",\"1J-3\",\"L\", \"R\"),\n",
      "bond(8,\"1J-3\",\"R:8\",\"L\", \"R\"),\n",
      "bond(9,\"1J-3\",\"C:9\",\"L\", \"R\"),\n",
      "bond(10,\"0J-2\",\"1J-2\",\"R\", \"R\"),\n",
      "bond(11,\"SE:11\",\"1J-2\",\"R\", \"L\"),\n",
      "bond(12,\"1J-2\",\"I:12\",\"R\", \"R\"),\n",
      "])\n"
     ]
    }
   ],
   "source": [
    "# add bonds to the system\n",
    "for bond in bonds:\n",
    "    bgsys.add_bond(bond)\n",
    "\n",
    "print(bgsys)"
   ]
  },
  {
   "cell_type": "markdown",
   "metadata": {},
   "source": [
    "### LOOP OVER 1 PORTS\n",
    "$  I,R,C,SE \\leftharpoonup$"
   ]
  },
  {
   "cell_type": "code",
   "execution_count": 9,
   "metadata": {},
   "outputs": [
    {
     "name": "stdout",
     "output_type": "stream",
     "text": [
      "['SF:1', 'C:2', 'SE:4', 'I:5', 'R:8', 'C:9', 'SE:11', 'I:12']\n"
     ]
    }
   ],
   "source": [
    "e1s = bgsys.get_single_ports()\n",
    "print(e1s)"
   ]
  },
  {
   "cell_type": "code",
   "execution_count": 10,
   "metadata": {},
   "outputs": [
    {
     "name": "stdout",
     "output_type": "stream",
     "text": [
      "element: SF:SF:1   , F(t)_1\n",
      "element: C:C:2     , q/C_2\n",
      "element: SE:SE:4   , E(t)_4\n",
      "element: I:I:5     , p/I_5\n",
      "element: R:R:8     , R_8*f_8\n",
      "element: C:C:9     , q/C_9\n",
      "element: SE:SE:11  , E(t)_11\n",
      "element: I:I:12    , p/I_12\n"
     ]
    }
   ],
   "source": [
    "for ename in e1s:\n",
    "    bs = bgsys.get_elem_bonds(ename)\n",
    "    e = get_elem_from_name(ename, bs)\n",
    "    print(f'element: {str(e):10s}, {e.value}')\n",
    "    bgsys.update_ef_dicts(e, bs[0])"
   ]
  },
  {
   "cell_type": "code",
   "execution_count": 11,
   "metadata": {},
   "outputs": [
    {
     "name": "stdout",
     "output_type": "stream",
     "text": [
      "f_1 F(t)_1\n",
      "e_2 q/C_2\n",
      "e_4 E(t)_4\n",
      "f_5 p/I_5\n",
      "e_8 R_8*f_8\n",
      "e_9 q/C_9\n",
      "e_11 E(t)_11\n",
      "f_12 p/I_12\n"
     ]
    }
   ],
   "source": [
    "for k,v in bgsys.ef_dict.items():\n",
    "    print(k, v)"
   ]
  },
  {
   "cell_type": "markdown",
   "metadata": {},
   "source": [
    "### Loop over 2 port elements\n",
    "$ \\leftharpoonup TF \\leftharpoonup$"
   ]
  },
  {
   "cell_type": "code",
   "execution_count": 12,
   "metadata": {},
   "outputs": [],
   "source": [
    "e2s = bgsys.get_two_ports()\n",
    "#print(e2s)\n",
    "\n",
    "for ename in e2s:\n",
    "    bs = bgsys.get_elem_bonds(ename)\n",
    "    e = get_elem_from_name(ename, bs)\n",
    "    print(f'element: {str(e):10s}, {e.value}')\n",
    "    print(bs[0], bs[1])\n",
    "    bgsys.update_ef_dicts(e, bs[0])\n",
    "    bgsys.update_ef_dicts(e, bs[1])"
   ]
  },
  {
   "cell_type": "code",
   "execution_count": 13,
   "metadata": {},
   "outputs": [
    {
     "name": "stdout",
     "output_type": "stream",
     "text": [
      "f_1 F(t)_1\n",
      "e_2 q/C_2\n",
      "e_4 E(t)_4\n",
      "f_5 p/I_5\n",
      "e_8 R_8*f_8\n",
      "e_9 q/C_9\n",
      "e_11 E(t)_11\n",
      "f_12 p/I_12\n"
     ]
    }
   ],
   "source": [
    "for k,v in bgsys.ef_dict.items():\n",
    "    print(k, v)"
   ]
  },
  {
   "cell_type": "markdown",
   "metadata": {},
   "source": [
    "### Loop over Multi-Ports\n",
    "\n",
    "$\\hspace{5.5mm}  \\upharpoonright $\\\n",
    "$ \\leftharpoonup  0 \\rightharpoonup$\\\n",
    "$\\hspace{5.5mm}  \\downharpoonleft $"
   ]
  },
  {
   "cell_type": "code",
   "execution_count": 14,
   "metadata": {},
   "outputs": [
    {
     "name": "stdout",
     "output_type": "stream",
     "text": [
      "element: 0J:0J-1   \n",
      "[0J-1 ]  <__ 1__ | [SF:1 ] b.f_1 = -( -f_2 -f_3)\n",
      "[0J-1 ] | __ 2__>  [C:2  ] b.f_2 = ( +f_1 -f_3)\n",
      "[0J-1 ]   __ 3__>| [1J-1 ] b.f_3 = ( +f_1 -f_2)\n",
      "[0J-1 ]  <__ 1__ | [SF:1 ] b.e_1 = e_2\n",
      "[0J-1 ] | __ 2__>  [C:2  ] b.e_2 = e_2\n",
      "[0J-1 ]   __ 3__>| [1J-1 ] b.e_3 = e_2\n",
      "element: 1J:1J-1   \n",
      "[1J-1 ] |<__ 3__   [0J-1 ] b.f_3 = f_5\n",
      "[1J-1 ] | __ 4__>  [SE:4 ] b.f_4 = f_5\n",
      "[1J-1 ]   __ 5__>| [I:5  ] b.f_5 = f_5\n",
      "[1J-1 ] | __ 6__>  [0J-2 ] b.f_6 = f_5\n",
      "[1J-1 ] |<__ 3__   [0J-1 ] b.e_3 = -( -e_4 -e_5 -e_6)\n",
      "[1J-1 ] | __ 4__>  [SE:4 ] b.e_4 = ( +e_3 -e_5 -e_6)\n",
      "[1J-1 ]   __ 5__>| [I:5  ] b.e_5 = ( +e_3 -e_4 -e_6)\n",
      "[1J-1 ] | __ 6__>  [0J-2 ] b.e_6 = ( +e_3 -e_4 -e_5)\n",
      "element: 0J:0J-2   \n",
      "[0J-2 ]  <__ 6__ | [1J-1 ] b.f_6 = -( -f_7 -f_10)\n",
      "[0J-2 ] | __ 7__>  [1J-3 ] b.f_7 = ( +f_6 -f_10)\n",
      "[0J-2 ]   __10__>| [1J-2 ] b.f_10 = ( +f_6 -f_7)\n",
      "[0J-2 ]  <__ 6__ | [1J-1 ] b.e_6 = e_7\n",
      "[0J-2 ] | __ 7__>  [1J-3 ] b.e_7 = e_7\n",
      "[0J-2 ]   __10__>| [1J-2 ] b.e_10 = e_7\n",
      "element: 1J:1J-3   \n",
      "[1J-3 ]  <__ 7__ | [0J-2 ] b.f_7 = ( +f_6 -f_10)\n",
      "[1J-3 ] | __ 8__>  [R:8  ] b.f_8 = ( +f_6 -f_10)\n",
      "[1J-3 ] | __ 9__>  [C:9  ] b.f_9 = ( +f_6 -f_10)\n",
      "[1J-3 ]  <__ 7__ | [0J-2 ] b.e_7 = -( -e_8 -e_9)\n",
      "[1J-3 ] | __ 8__>  [R:8  ] b.e_8 = ( +e_7 -e_9)\n",
      "[1J-3 ] | __ 9__>  [C:9  ] b.e_9 = ( +e_7 -e_8)\n",
      "element: 1J:1J-2   \n",
      "[1J-2 ] |<__10__   [0J-2 ] b.f_10 = f_12\n",
      "[1J-2 ] | __11__>  [SE:11] b.f_11 = f_12\n",
      "[1J-2 ]   __12__>| [I:12 ] b.f_12 = f_12\n",
      "[1J-2 ] |<__10__   [0J-2 ] b.e_10 = -( -e_11 -e_12)\n",
      "[1J-2 ] | __11__>  [SE:11] b.e_11 = ( +e_10 -e_12)\n",
      "[1J-2 ]   __12__>| [I:12 ] b.e_12 = ( +e_10 -e_11)\n",
      "f_1: F(t)_1 or -( -f_2 -f_3)\n",
      "e_2: q/C_2\n",
      "e_4: E(t)_4 or ( +e_3 -e_5 -e_6)\n",
      "f_5: p/I_5\n",
      "e_8: R_8*f_8 or ( +e_7 -e_9)\n",
      "e_9: q/C_9 or ( +e_7 -e_8)\n",
      "e_11: E(t)_11 or ( +e_10 -e_12)\n",
      "f_12: p/I_12\n",
      "e_1: e_2\n",
      "f_2: ( +f_1 -f_3)\n",
      "e_3: e_2 or -( -e_4 -e_5 -e_6)\n",
      "f_3: ( +f_1 -f_2) or f_5\n",
      "f_4: f_5\n",
      "e_5: ( +e_3 -e_4 -e_6)\n",
      "f_6: f_5 or -( -f_7 -f_10)\n",
      "e_6: ( +e_3 -e_4 -e_5) or e_7\n",
      "f_7: ( +f_6 -f_10)\n",
      "e_10: e_7 or -( -e_11 -e_12)\n",
      "f_10: ( +f_6 -f_7) or f_12\n",
      "e_7: -( -e_8 -e_9)\n",
      "f_8: ( +f_6 -f_10)\n",
      "f_9: ( +f_6 -f_10)\n",
      "f_11: f_12\n",
      "e_12: ( +e_10 -e_11)\n"
     ]
    }
   ],
   "source": [
    "ems = bgsys.get_multi_ports()\n",
    "#print(ems)\n",
    "\n",
    "for ename in ems:\n",
    "    bs = bgsys.get_elem_bonds(ename)\n",
    "    e = get_elem_from_name(ename, bs)\n",
    "    print(f'element: {str(e):10s}')\n",
    "    for b in bs:\n",
    "        if b.nls == ename:\n",
    "            #print(b            , f'b.e_{b.num} = {b.e}')\n",
    "            print(b            , f'b.f_{b.num} = {b.f}')\n",
    "        else:\n",
    "            #print(b.print_rev(), f'b.e_{b.num} = {b.e}')\n",
    "            print(b.print_rev(), f'b.f_{b.num} = {b.f}')\n",
    "    for b in bs:\n",
    "        if b.nls == ename:\n",
    "            print(b            , f'b.e_{b.num} = {b.e}')\n",
    "            #print(b            , f'b.f_{b.num} = {b.f}')\n",
    "        else:\n",
    "            print(b.print_rev(), f'b.e_{b.num} = {b.e}')\n",
    "            #print(b.print_rev(), f'b.f_{b.num} = {b.f}')\n",
    "    bgsys.update_ef_dicts_mp(e, bs)\n",
    "    \n",
    "for k,v in bgsys.ef_dict.items():\n",
    "    if k == v:\n",
    "        v = ''\n",
    "    print(f'{k}: {v}')"
   ]
  },
  {
   "cell_type": "code",
   "execution_count": 15,
   "metadata": {},
   "outputs": [
    {
     "name": "stdout",
     "output_type": "stream",
     "text": [
      "f_1: F(t)_1 or -( -f_2 -f_3)\n",
      "e_2: q/C_2\n",
      "e_4: E(t)_4 or ( +e_3 -e_5 -e_6)\n",
      "f_5: p/I_5\n",
      "e_8: R_8*f_8 or ( +e_7 -e_9)\n",
      "e_9: q/C_9 or ( +e_7 -e_8)\n",
      "e_11: E(t)_11 or ( +e_10 -e_12)\n",
      "f_12: p/I_12\n",
      "e_1: e_2\n",
      "f_2: ( +f_1 -f_3)\n",
      "e_3: e_2 or -( -e_4 -e_5 -e_6)\n",
      "f_3: ( +f_1 -f_2) or f_5\n",
      "f_4: f_5\n",
      "e_5: ( +e_3 -e_4 -e_6)\n",
      "f_6: f_5 or -( -f_7 -f_10)\n",
      "e_6: ( +e_3 -e_4 -e_5) or e_7\n",
      "f_7: ( +f_6 -f_10)\n",
      "e_10: e_7 or -( -e_11 -e_12)\n",
      "f_10: ( +f_6 -f_7) or f_12\n",
      "e_7: -( -e_8 -e_9)\n",
      "f_8: ( +f_6 -f_10)\n",
      "f_9: ( +f_6 -f_10)\n",
      "f_11: f_12\n",
      "e_12: ( +e_10 -e_11)\n"
     ]
    }
   ],
   "source": [
    "for k,v in bgsys.ef_dict.items():\n",
    "    if k == v:\n",
    "        v = ''\n",
    "    print(f'{k}: {v}')"
   ]
  },
  {
   "cell_type": "code",
   "execution_count": 16,
   "metadata": {},
   "outputs": [
    {
     "name": "stdout",
     "output_type": "stream",
     "text": [
      "(+ f_6 - R_10*f_1 +f_10 -( -f_1) -f_12 +(-f_1) or E(t)_1 \n",
      "(+ f_6 - R_10*F_X +f_10 -( -F_X) -f_12 +(-F_X) or E(t)_1 \n"
     ]
    }
   ],
   "source": [
    "import re\n",
    "\n",
    "tstr = '(+ f_6 - R_10*f_1 +f_10 -( -f_1) -f_12 +(-f_1) or E(t)_1 '\n",
    "\n",
    "repl = 'F_X'\n",
    "key  = 'f_1'\n",
    "#pattern = r'f_1(?![0-9])'   # negative lookahead assertion\n",
    "pattern = key+r'(?![0-9])'   # negative lookahead assertion\n",
    "\n",
    "#m = re.search(pattern, tstr)\n",
    "#if m != None:\n",
    "#    print(m)\n",
    "#    print(m.span())\n",
    "#    print(tstr)\n",
    "#    for i in range(len(tstr)):\n",
    "#        if i >= m.span()[0] and i < m.span()[1]:\n",
    "#            print('_', end='')\n",
    "#        else:\n",
    "#            print(tstr[i], end='')\n",
    "#    print()\n",
    "#    print(m.group(0))\n",
    "    \n",
    "print(tstr)\n",
    "newstr = re.sub(pattern,repl, tstr)\n",
    "print(newstr)\n"
   ]
  },
  {
   "cell_type": "code",
   "execution_count": 17,
   "metadata": {},
   "outputs": [],
   "source": [
    "def count_elements(field):\n",
    "    # tokenize field string\n",
    "    patA = r'\\w+[()]?[a-z]?[)_]?[)_]?\\w+'\n",
    "    fw = r'\\w+'        # first word\n",
    "    w = '\\w+'          # word\n",
    "    j = '[+-_()*/]?'   # joining chars\n",
    "    pattern = fw+j+w+j+j+w\n",
    "        \n",
    "    # split field into elements\n",
    "    #split_str = re.findall(pattern,field)\n",
    "    #n = len(split_str)\n",
    "    return len(re.findall(pattern, field))\n",
    "    #print(f'n:[{n:2d}] {field:30s} ==> {split_str}')\n",
    "    #return n"
   ]
  },
  {
   "cell_type": "code",
   "execution_count": 18,
   "metadata": {},
   "outputs": [],
   "source": [
    "def find_smallest_field(fields):\n",
    "    \n",
    "    # set current smallest to first field\n",
    "    #sf = fields[0]\n",
    "    #mincnt = count_elements(fields[0])\n",
    "    mincnt = 999\n",
    "        \n",
    "    for f in fields:\n",
    "        n = count_elements(f)\n",
    "        if n < mincnt:\n",
    "            sf = f\n",
    "            mincnt = n\n",
    "        #print(f'f:{f})\n",
    "    return sf"
   ]
  },
  {
   "cell_type": "code",
   "execution_count": 19,
   "metadata": {},
   "outputs": [],
   "source": [
    "nelems = count_elements(tstr)"
   ]
  },
  {
   "cell_type": "code",
   "execution_count": 20,
   "metadata": {},
   "outputs": [
    {
     "name": "stdout",
     "output_type": "stream",
     "text": [
      "smallest field is:  1/R_2*f_2 +( ( e_7 ) ) \n"
     ]
    }
   ],
   "source": [
    "pattern = 'or'\n",
    "#target_str = tstr\n",
    "target_str = '+( -f_20 + R_20*f_2 +e_7) or 1/R_2*f_2 +( ( e_7 ) ) or f_5 + e_7 + ( -e_21)'\n",
    "\n",
    "field_list = re.split(pattern,target_str)\n",
    "\n",
    "sf = find_smallest_field(field_list)\n",
    "print(f'smallest field is: {sf}')"
   ]
  },
  {
   "cell_type": "code",
   "execution_count": 21,
   "metadata": {},
   "outputs": [
    {
     "name": "stdout",
     "output_type": "stream",
     "text": [
      "f_1: F(t)_1 or -( -f_2 -f_3)\n",
      "e_2: q/C_2\n",
      "e_4: E(t)_4 or ( +e_3 -e_5 -e_6)\n",
      "f_5: p/I_5\n",
      "e_8: R_8*f_8 or ( +e_7 -e_9)\n",
      "e_9: q/C_9 or ( +e_7 -e_8)\n",
      "e_11: E(t)_11 or ( +e_10 -e_12)\n",
      "f_12: p/I_12\n",
      "e_1: e_2\n",
      "f_2: ( +f_1 -f_3)\n",
      "e_3: e_2 or -( -e_4 -e_5 -e_6)\n",
      "f_3: ( +f_1 -f_2) or f_5\n",
      "f_4: f_5\n",
      "e_5: ( +e_3 -e_4 -e_6)\n",
      "f_6: f_5 or -( -f_7 -f_10)\n",
      "e_6: ( +e_3 -e_4 -e_5) or e_7\n",
      "f_7: ( +f_6 -f_10)\n",
      "e_10: e_7 or -( -e_11 -e_12)\n",
      "f_10: ( +f_6 -f_7) or f_12\n",
      "e_7: -( -e_8 -e_9)\n",
      "f_8: ( +f_6 -f_10)\n",
      "f_9: ( +f_6 -f_10)\n",
      "f_11: f_12\n",
      "e_12: ( +e_10 -e_11)\n"
     ]
    }
   ],
   "source": [
    "for k,v in bgsys.ef_dict.items():\n",
    "    print(f'{k}: {v}')"
   ]
  },
  {
   "cell_type": "markdown",
   "metadata": {},
   "source": [
    "### Reduce equations"
   ]
  },
  {
   "cell_type": "code",
   "execution_count": 22,
   "metadata": {},
   "outputs": [],
   "source": [
    "def reduce_equations(bgsys):\n",
    "    for k,v in bgsys.ef_dict.items():\n",
    "        # split value on 'or' and find field with smallest num_elements\n",
    "        field_list = re.split('or',v)\n",
    "        sf = find_smallest_field(field_list)\n",
    "        bgsys.ef_dict[k] = sf\n",
    "        print(f'{k}: {sf}')"
   ]
  },
  {
   "cell_type": "code",
   "execution_count": 23,
   "metadata": {},
   "outputs": [
    {
     "name": "stdout",
     "output_type": "stream",
     "text": [
      "f_1: F(t)_1 \n",
      "e_2: q/C_2\n",
      "e_4: E(t)_4 \n",
      "f_5: p/I_5\n",
      "e_8: R_8*f_8 \n",
      "e_9: q/C_9 \n",
      "e_11: E(t)_11 \n",
      "f_12: p/I_12\n",
      "e_1: e_2\n",
      "f_2: ( +f_1 -f_3)\n",
      "e_3: e_2 \n",
      "f_3:  f_5\n",
      "f_4: f_5\n",
      "e_5: ( +e_3 -e_4 -e_6)\n",
      "f_6: f_5 \n",
      "e_6:  e_7\n",
      "f_7: ( +f_6 -f_10)\n",
      "e_10: e_7 \n",
      "f_10:  f_12\n",
      "e_7: -( -e_8 -e_9)\n",
      "f_8: ( +f_6 -f_10)\n",
      "f_9: ( +f_6 -f_10)\n",
      "f_11: f_12\n",
      "e_12: ( +e_10 -e_11)\n"
     ]
    }
   ],
   "source": [
    "reduce_equations(bgsys)"
   ]
  },
  {
   "cell_type": "markdown",
   "metadata": {},
   "source": [
    "## Substitute known keys"
   ]
  },
  {
   "cell_type": "code",
   "execution_count": 24,
   "metadata": {},
   "outputs": [
    {
     "name": "stdout",
     "output_type": "stream",
     "text": [
      "[f_1   ] to [F(t)_1 ] for [( +f_1 -f_3)        ] >> [( +F(t)_1  -f_3)    ]\n",
      "[e_2   ] to [q/C_2 ] for [e_2                 ] >> [q/C_2               ]\n",
      "[e_2   ] to [q/C_2 ] for [e_2                 ] >> [q/C_2               ]\n",
      "[e_4   ] to [E(t)_4 ] for [( +e_3 -e_4 -e_6)   ] >> [( +e_3 -E(t)_4  -e_6)]\n",
      "[f_5   ] to [p/I_5 ] for [ f_5                ] >> [ p/I_5              ]\n",
      "[f_5   ] to [p/I_5 ] for [f_5                 ] >> [p/I_5               ]\n",
      "[f_5   ] to [p/I_5 ] for [f_5                 ] >> [p/I_5               ]\n",
      "[e_8   ] to [R_8*f_8 ] for [-( -e_8 -e_9)       ] >> [-( -R_8*f_8  -e_9)  ]\n",
      "[e_9   ] to [q/C_9 ] for [-( -R_8*f_8  -e_9)  ] >> [-( -R_8*f_8  -q/C_9 )]\n",
      "[e_11  ] to [E(t)_11 ] for [( +e_10 -e_11)      ] >> [( +e_10 -E(t)_11 )  ]\n",
      "[f_12  ] to [p/I_12] for [ f_12               ] >> [ p/I_12             ]\n",
      "[f_12  ] to [p/I_12] for [f_12                ] >> [p/I_12              ]\n",
      "[e_3   ] to [q/C_2 ] for [( +e_3 -E(t)_4  -e_6)] >> [( +q/C_2  -E(t)_4  -e_6)]\n",
      "[f_3   ] to [ p/I_5] for [( +F(t)_1  -f_3)    ] >> [( +F(t)_1  - p/I_5) ]\n",
      "[f_6   ] to [p/I_5 ] for [( +f_6 -f_10)       ] >> [( +p/I_5  -f_10)    ]\n",
      "[f_6   ] to [p/I_5 ] for [( +f_6 -f_10)       ] >> [( +p/I_5  -f_10)    ]\n",
      "[f_6   ] to [p/I_5 ] for [( +f_6 -f_10)       ] >> [( +p/I_5  -f_10)    ]\n",
      "[e_6   ] to [ e_7  ] for [( +q/C_2  -E(t)_4  -e_6)] >> [( +q/C_2  -E(t)_4  - e_7)]\n",
      "[e_10  ] to [e_7   ] for [( +e_10 -E(t)_11 )  ] >> [( +e_7  -E(t)_11 )  ]\n",
      "[f_10  ] to [ p/I_12] for [( +p/I_5  -f_10)    ] >> [( +p/I_5  - p/I_12) ]\n",
      "[f_10  ] to [ p/I_12] for [( +p/I_5  -f_10)    ] >> [( +p/I_5  - p/I_12) ]\n",
      "[f_10  ] to [ p/I_12] for [( +p/I_5  -f_10)    ] >> [( +p/I_5  - p/I_12) ]\n",
      "[e_7   ] to [-( -R_8*f_8  -q/C_9 )] for [( +q/C_2  -E(t)_4  - e_7)] >> [( +q/C_2  -E(t)_4  - -( -R_8*f_8  -q/C_9 ))]\n",
      "[e_7   ] to [-( -R_8*f_8  -q/C_9 )] for [ e_7                ] >> [ -( -R_8*f_8  -q/C_9 )]\n",
      "[e_7   ] to [-( -R_8*f_8  -q/C_9 )] for [e_7                 ] >> [-( -R_8*f_8  -q/C_9 ) ]\n",
      "[e_7   ] to [-( -R_8*f_8  -q/C_9 )] for [( +e_7  -E(t)_11 )  ] >> [( +-( -R_8*f_8  -q/C_9 )  -E(t)_11 )]\n",
      "[f_8   ] to [( +p/I_5  - p/I_12)] for [R_8*f_8             ] >> [R_8*( +p/I_5  - p/I_12) ]\n",
      "[f_8   ] to [( +p/I_5  - p/I_12)] for [( +q/C_2  -E(t)_4  - -( -R_8*f_8  -q/C_9 ))] >> [( +q/C_2  -E(t)_4  - -( -R_8*( +p/I_5  - p/I_12)  -q/C_9 ))]\n",
      "[f_8   ] to [( +p/I_5  - p/I_12)] for [ -( -R_8*f_8  -q/C_9 )] >> [ -( -R_8*( +p/I_5  - p/I_12)  -q/C_9 )]\n",
      "[f_8   ] to [( +p/I_5  - p/I_12)] for [-( -R_8*f_8  -q/C_9 ) ] >> [-( -R_8*( +p/I_5  - p/I_12)  -q/C_9 ) ]\n",
      "[f_8   ] to [( +p/I_5  - p/I_12)] for [-( -R_8*f_8  -q/C_9 )] >> [-( -R_8*( +p/I_5  - p/I_12)  -q/C_9 )]\n",
      "[f_8   ] to [( +p/I_5  - p/I_12)] for [( +-( -R_8*f_8  -q/C_9 )  -E(t)_11 )] >> [( +-( -R_8*( +p/I_5  - p/I_12)  -q/C_9 )  -E(t)_11 )]\n",
      "f_1: F(t)_1 \n",
      "e_2: q/C_2\n",
      "e_4: E(t)_4 \n",
      "f_5: p/I_5\n",
      "e_8: R_8*( +p/I_5  - p/I_12) \n",
      "e_9: q/C_9 \n",
      "e_11: E(t)_11 \n",
      "f_12: p/I_12\n",
      "e_1: q/C_2\n",
      "f_2: ( +F(t)_1  - p/I_5)\n",
      "e_3: q/C_2 \n",
      "f_3:  p/I_5\n",
      "f_4: p/I_5\n",
      "e_5: ( +q/C_2  -E(t)_4  - -( -R_8*( +p/I_5  - p/I_12)  -q/C_9 ))\n",
      "f_6: p/I_5 \n",
      "e_6:  -( -R_8*( +p/I_5  - p/I_12)  -q/C_9 )\n",
      "f_7: ( +p/I_5  - p/I_12)\n",
      "e_10: -( -R_8*( +p/I_5  - p/I_12)  -q/C_9 ) \n",
      "f_10:  p/I_12\n",
      "e_7: -( -R_8*( +p/I_5  - p/I_12)  -q/C_9 )\n",
      "f_8: ( +p/I_5  - p/I_12)\n",
      "f_9: ( +p/I_5  - p/I_12)\n",
      "f_11: p/I_12\n",
      "e_12: ( +-( -R_8*( +p/I_5  - p/I_12)  -q/C_9 )  -E(t)_11 )\n"
     ]
    }
   ],
   "source": [
    "bgsys.sub_ef_dict_vals()\n",
    "for k,v in bgsys.ef_dict.items():\n",
    "    if k == v:\n",
    "        v = ''\n",
    "    print(f'{k}: {v}')"
   ]
  },
  {
   "cell_type": "markdown",
   "metadata": {},
   "source": [
    "### Find what IC elements get"
   ]
  },
  {
   "cell_type": "code",
   "execution_count": 25,
   "metadata": {},
   "outputs": [
    {
     "name": "stdout",
     "output_type": "stream",
     "text": [
      "bond: [C:2  ]  <__ 2__ | [0J-1 ] element: C:C:2     , gives [e]: q/C_2      gets [qdot = f]: ( +F(t)_1  - p/I_5)\n",
      "bond: [I:5  ] |<__ 5__   [1J-1 ] element: I:I:5     , gives [f]: p/I_5      gets [pdot = e]: ( +q/C_2  -E(t)_4  - -( -R_8*( +p/I_5  - p/I_12)  -q/C_9 ))\n",
      "bond: [C:9  ]  <__ 9__ | [1J-3 ] element: C:C:9     , gives [e]: q/C_9      gets [qdot = f]: ( +p/I_5  - p/I_12)\n",
      "bond: [I:12 ] |<__12__   [1J-2 ] element: I:I:12    , gives [f]: p/I_12     gets [pdot = e]: ( +-( -R_8*( +p/I_5  - p/I_12)  -q/C_9 )  -E(t)_11 )\n"
     ]
    }
   ],
   "source": [
    "for ename in e1s:\n",
    "    bs = bgsys.get_elem_bonds(ename)\n",
    "    b = bs[0]\n",
    "    e = get_elem_from_name(ename,bs)\n",
    "    if e.etype == 'I' or e.etype == 'C':\n",
    "        eqn = bgsys.get_elem_eqn(ename)\n",
    "        bstr = f'{b}'\n",
    "        gets = elem_gets(ename, b)\n",
    "        gives = elem_gives(ename, b)\n",
    "        getstr = 'pdot = '\n",
    "        if gets == 'f':\n",
    "            getstr = 'qdot = '\n",
    "        getstr += gets\n",
    "        if b.nls != ename:\n",
    "            bstr = f'{b.print_rev()}'\n",
    "        print(f'bond: {bstr} element: {str(e):10s}, gives [{gives}]: {e.value:10s} gets [{getstr}]: {eqn}')"
   ]
  },
  {
   "cell_type": "markdown",
   "metadata": {},
   "source": [
    "### Sanitize the equations"
   ]
  },
  {
   "cell_type": "code",
   "execution_count": 26,
   "metadata": {},
   "outputs": [],
   "source": [
    "def sanitize(fstring):\n",
    "    # for '+-VAL', chg leading +- to -\n",
    "    pat = r'\\+-'\n",
    "    repl = ' -'\n",
    "    ns = re.sub(pat,repl,fstring)\n",
    "    \n",
    "    # for '( +VAL', rm leading + sign \n",
    "    pat = r'\\(\\s*\\+'\n",
    "    repl = '( '\n",
    "    ns = re.sub(pat,repl,ns)\n",
    "    \n",
    "    # for '-  -VAL', chg to +VAL \n",
    "    pat = r'-\\s*\\-'\n",
    "    repl = ' + '\n",
    "    ns = re.sub(pat,repl,ns)\n",
    "    \n",
    "    # remove extra spaces\n",
    "    pat = r'\\s+'\n",
    "    repl = ' '\n",
    "    ns = re.sub(pat,repl,ns)\n",
    "    \n",
    "    # for '( STUFF )', remove () parentheses\n",
    "    pat = r'^\\((.*?)\\)$'\n",
    "    repl = r\"\\1\"\n",
    "    ns = re.sub(pat,repl,ns)\n",
    "    \n",
    "    # for '-VAL', change to - VAL\n",
    "    pat = r'-(\\w+)'\n",
    "    repl = r\"- \\1\"\n",
    "    ns = re.sub(pat,repl,ns)\n",
    "    \n",
    "    \n",
    "    leader = ' '\n",
    "    if ns != fstring:\n",
    "        leader = '*'\n",
    "    print(f'[{leader}] == {fstring}')\n",
    "    print(f'[{leader}] == {ns}')"
   ]
  },
  {
   "cell_type": "code",
   "execution_count": 49,
   "metadata": {},
   "outputs": [
    {
     "name": "stdout",
     "output_type": "stream",
     "text": [
      "[*] == (     +F(t)_1  - p/I_5)\n",
      "[*] ==  F(t)_1 - p/I_5\n",
      "\n",
      "[*] == ( +q/C_2  -E(t)_4  - -( -R_8*( +p/I_5  - p/I_12)  -q/C_9 ))\n",
      "[*] ==  q/C_2 - E(t)_4 + ( - R_8*( p/I_5 - p/I_12) - q/C_9 )\n",
      "\n",
      "[*] == ( +p/I_5  - p/I_12)\n",
      "[*] ==  p/I_5 - p/I_12\n",
      "\n"
     ]
    }
   ],
   "source": [
    "flist = [\n",
    "    '(     +F(t)_1  - p/I_5)',\n",
    "    '( +q/C_2  -E(t)_4  - -( -R_8*( +p/I_5  - p/I_12)  -q/C_9 ))',\n",
    "    '( +p/I_5  - p/I_12)',\n",
    "#    '( +-( -R_8*( +p/I_5  - p/I_12)  -q/C_9 )  -E(t)_11 )',\n",
    "]\n",
    "\n",
    "for f in flist:\n",
    "    sanitize(f)\n",
    "    print()"
   ]
  },
  {
   "cell_type": "code",
   "execution_count": 51,
   "metadata": {},
   "outputs": [],
   "source": [
    "def get_end_val(tokens):\n",
    "    pass"
   ]
  },
  {
   "cell_type": "code",
   "execution_count": null,
   "metadata": {},
   "outputs": [],
   "source": []
  },
  {
   "cell_type": "code",
   "execution_count": 52,
   "metadata": {},
   "outputs": [],
   "source": [
    "def find_leading_adder(tokens, col):\n",
    "    tleaders = [t for t in tokens if t.column < col and t.type == 'OP' and (t.value == '+' or t.value == '-')]\n",
    "    return tleaders[-1]\n",
    "    "
   ]
  },
  {
   "cell_type": "code",
   "execution_count": 53,
   "metadata": {},
   "outputs": [],
   "source": [
    "from typing import NamedTuple\n",
    "import re\n",
    "\n",
    "class Token(NamedTuple):\n",
    "    type: str\n",
    "    value: str\n",
    "    line: int\n",
    "    column: int\n",
    "\n",
    "def tokenize(code):\n",
    "    keywords = {'IF', 'THEN', 'ENDIF', 'FOR', 'NEXT', 'GOSUB', 'RETURN'}\n",
    "    token_specification = [\n",
    "        ('NUMBER',   r'\\d+(\\.\\d*)?'),  # Integer or decimal number\n",
    "        ('ASSIGN',   r':='),           # Assignment operator\n",
    "        ('END',      r';'),            # Statement terminator\n",
    "        #('ID',       r'[A-Za-z]+'),    # Identifiers\n",
    "        ('ID',       r'\\w+'),    # Identifiers\n",
    "        ('OP',       r'[+\\-*/]'),      # Arithmetic operators\n",
    "        ('NEWLINE',  r'\\n'),           # Line endings\n",
    "        ('POPEN',    r'\\('),           # Open  Parenthesis\n",
    "        ('PCLOSE',   r'\\)'),           # close Parenthesis\n",
    "        ('SKIP',     r'[ \\t]+'),       # Skip over spaces and tabs\n",
    "        ('MISMATCH', r'.'),            # Any other character\n",
    "    ]\n",
    "    tok_regex = '|'.join('(?P<%s>%s)' % pair for pair in token_specification)\n",
    "    line_num = 1\n",
    "    line_start = 0\n",
    "    for mo in re.finditer(tok_regex, code):\n",
    "        kind = mo.lastgroup\n",
    "        value = mo.group()\n",
    "        column = mo.start() - line_start\n",
    "        if kind == 'NUMBER':\n",
    "            value = float(value) if '.' in value else int(value)\n",
    "        elif kind == 'ID' and value in keywords:\n",
    "            kind = value\n",
    "        elif kind == 'NEWLINE':\n",
    "            line_start = mo.end()\n",
    "            line_num += 1\n",
    "            continue\n",
    "        elif kind == 'SKIP':\n",
    "            continue\n",
    "        elif kind == 'MISMATCH':\n",
    "            raise RuntimeError(f'{value!r} unexpected on line {line_num}')\n",
    "        yield Token(kind, value, line_num, column)"
   ]
  },
  {
   "cell_type": "code",
   "execution_count": 107,
   "metadata": {},
   "outputs": [],
   "source": [
    "def print_header(start, stop, astr):\n",
    "    print('0123456789_123456789_123456789_123456789_123456789_123456789_123456789')\n",
    "    for i in range(stop+1):\n",
    "        if i == start:\n",
    "            c = '*'\n",
    "        elif i == stop:\n",
    "            c = '*'\n",
    "        else:\n",
    "            c = ' '\n",
    "        print(c, end = '')\n",
    "    print()\n",
    "    print(astr)\n",
    "    return"
   ]
  },
  {
   "cell_type": "code",
   "execution_count": 108,
   "metadata": {},
   "outputs": [],
   "source": [
    "def insert_char(astr, idx, achar):\n",
    "    return astr[:idx]  + achar + astr[idx:]"
   ]
  },
  {
   "cell_type": "code",
   "execution_count": 124,
   "metadata": {},
   "outputs": [],
   "source": [
    "def toggle_scoped_negatives(substr):\n",
    "    ns = re.sub(r'^-', 'tmppos',substr)\n",
    "    ns = re.sub(r'-', 'tmpneg', ns)\n",
    "    ns = re.sub(r'\\( (\\w+)', r'( tmpneg \\1', ns)\n",
    "    ns = re.sub(r'tmppos', '+',ns)\n",
    "    ns = re.sub(r'tmpneg', '-',ns)\n",
    "    print(ns)"
   ]
  },
  {
   "cell_type": "code",
   "execution_count": 159,
   "metadata": {},
   "outputs": [],
   "source": [
    "def splitin3(astr,i1,i2):\n",
    "    bs = astr[:i1]\n",
    "    ms = astr[i1:i2+1]\n",
    "    es = astr[i2+1:]\n",
    "    return bs,ms,es"
   ]
  },
  {
   "cell_type": "code",
   "execution_count": 162,
   "metadata": {},
   "outputs": [],
   "source": [
    "def clean_parens(token_pairs, sline):\n",
    "    # list of saved subtrings\n",
    "    ss = []\n",
    "    for to,tc in token_pairs:\n",
    "        \n",
    "        start = to.column\n",
    "        stop = tc.column\n",
    "        linestr = sline\n",
    "        \n",
    "        print_header(start,stop,linestr)\n",
    "        \n",
    "        # find token adder\n",
    "        ta = find_leading_adder(tokens, start)\n",
    "        estart = ta.column\n",
    "        \n",
    "        b,m,e = splitin3(sline,start,stop)\n",
    "       # print(b,m,e)\n",
    "        print(f'[{b}]')\n",
    "        print(f'[{m}]')\n",
    "        print(f'[{e}]')\n",
    "        # working scope of string is within the parentheses\n",
    "        substr = linestr[estart:stop+1]\n",
    "        print(f'scoped substring = estart, start, end = {estart:2d},{start:2d},{stop:2d} == [{substr}]')\n",
    "        ss.append((substr,estart,start,stop))\n",
    "        \n",
    "        #if ta.value == '-':\n",
    "        #    toggle_scoped_negatives(substr)\n",
    "        #print()\n",
    "    return"
   ]
  },
  {
   "cell_type": "code",
   "execution_count": 163,
   "metadata": {},
   "outputs": [
    {
     "name": "stdout",
     "output_type": "stream",
     "text": [
      "0123456789_123456789_123456789_123456789_123456789_123456789_123456789\n",
      "                       *               *\n",
      "q/C_2 - SE_4 + ( - R_8*( p/I_5 - p/I_12) - q/C_9 )\n",
      "[q/C_2 - SE_4 + ( - R_8*]\n",
      "[( p/I_5 - p/I_12)]\n",
      "[ - q/C_9 )]\n",
      "scoped substring = estart, start, end = 17,23,39 == [- R_8*( p/I_5 - p/I_12)]\n",
      "0123456789_123456789_123456789_123456789_123456789_123456789_123456789\n",
      "               *                                 *\n",
      "q/C_2 - SE_4 + ( - R_8*( p/I_5 - p/I_12) - q/C_9 )\n",
      "[q/C_2 - SE_4 + ]\n",
      "[( - R_8*( p/I_5 - p/I_12) - q/C_9 )]\n",
      "[]\n",
      "scoped substring = estart, start, end = 13,15,49 == [+ ( - R_8*( p/I_5 - p/I_12) - q/C_9 )]\n"
     ]
    }
   ],
   "source": [
    "sline = 'q/C_2 - SE_4 + ( - R_8*( p/I_5 - p/I_12) - q/C_9 )'\n",
    "\n",
    "po = []\n",
    "pc = []\n",
    "tokens = []\n",
    "\n",
    "for token in tokenize(sline):\n",
    "    if token.type == 'POPEN':\n",
    "        po.append(token)\n",
    "    elif token.type == 'PCLOSE':\n",
    "        pc.append(token)\n",
    "    #print(token)\n",
    "    tokens.append(token)\n",
    "    \n",
    "# reverse the po list\n",
    "rpo = po[::-1]\n",
    "#token_pairs = zip(rpo,pc)\n",
    "token_pairs = zip(rpo,pc)\n",
    "\n",
    "clean_parens(token_pairs, sline)"
   ]
  },
  {
   "cell_type": "code",
   "execution_count": 158,
   "metadata": {},
   "outputs": [
    {
     "name": "stdout",
     "output_type": "stream",
     "text": [
      "012345\n",
      "b(xyz)\n",
      "[b]\n",
      "[(xyz)]\n",
      "[]\n"
     ]
    }
   ],
   "source": [
    "astr = '012345'\n",
    "bstr = 'b(xyz)'\n",
    "print(astr)\n",
    "print(bstr)\n",
    "b,m,e = splitin3(bstr,1,5)\n",
    "print(f'[{b}]')\n",
    "print(f'[{m}]')\n",
    "print(f'[{e}]')"
   ]
  },
  {
   "cell_type": "code",
   "execution_count": 29,
   "metadata": {},
   "outputs": [
    {
     "name": "stdout",
     "output_type": "stream",
     "text": [
      "False\n"
     ]
    }
   ],
   "source": [
    "key  = 'f_7'\n",
    "if key not in bgsys.ef_dict.keys():\n",
    "    print(True)\n",
    "else:\n",
    "    print(False)"
   ]
  },
  {
   "cell_type": "code",
   "execution_count": 30,
   "metadata": {},
   "outputs": [
    {
     "data": {
      "image/png": "[encoded data removed]",
      "text/plain": [
       "<Figure size 432x288 with 1 Axes>"
      ]
     },
     "metadata": {},
     "output_type": "display_data"
    }
   ],
   "source": [
    "bgsys.plot_system()"
   ]
  },
  {
   "cell_type": "code",
   "execution_count": 31,
   "metadata": {},
   "outputs": [
    {
     "name": "stdout",
     "output_type": "stream",
     "text": [
      "[0J-1 ] | __ 2__>  [C:2  ]\n",
      "csl =|||\n",
      "pel =| |\n",
      "   |12345|\n",
      "NL |0J-1|\n",
      "NR |C:2|\n",
      "num| 2|\n",
      "i think i got: bond(2, 0J-1, C:2, L, R)\n"
     ]
    }
   ],
   "source": [
    "bond = bonds[1]\n",
    "bs  = bond.__str__()\n",
    "\n",
    "csl = bs[8]\n",
    "pel = bs[9]\n",
    "if csl == '|':\n",
    "  cs_dir = 'L'\n",
    "else:\n",
    "  cs_dir = 'R'\n",
    "\n",
    "if pel == '<':\n",
    "  pe_dir = 'L'\n",
    "else:\n",
    "  pe_dir = 'R'\n",
    "\n",
    "num = int(bs.split('__')[1])\n",
    "NL = bs[1:6].strip()\n",
    "NR = bs[-6:-1].strip()\n",
    "\n",
    "print(f'{bs}')\n",
    "print(f'csl =|{csl}|')\n",
    "print(f'pel =|{pel}|')\n",
    "print(f'   |12345|')\n",
    "print(f'NL |{NL}|')\n",
    "print(f'NR |{NR}|')\n",
    "print(f'num|{num:2d}|')\n",
    "\n",
    "print(f'i think i got: bond({num}, {NL}, {NR}, {cs_dir}, {pe_dir})')"
   ]
  }
 ],
 "metadata": {
  "kernelspec": {
   "display_name": "Python 3",
   "language": "python",
   "name": "python3"
  },
  "language_info": {
   "codemirror_mode": {
    "name": "ipython",
    "version": 3
   },
   "file_extension": ".py",
   "mimetype": "text/x-python",
   "name": "python",
   "nbconvert_exporter": "python",
   "pygments_lexer": "ipython3",
   "version": "3.7.4"
  }
 },
 "nbformat": 4,
 "nbformat_minor": 4
}
