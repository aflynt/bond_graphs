{
 "cells": [
  {
   "cell_type": "code",
   "execution_count": 1,
   "metadata": {},
   "outputs": [],
   "source": [
    "from bg import *"
   ]
  },
  {
   "cell_type": "code",
   "execution_count": 2,
   "metadata": {},
   "outputs": [],
   "source": [
    "bgsys = system([])"
   ]
  },
  {
   "cell_type": "code",
   "execution_count": 3,
   "metadata": {},
   "outputs": [],
   "source": [
    "bonds = []\n",
    "#bonds.append(bond( 16 ,   'SE', '1J-5'  , 'R' , 'L'))\n",
    "bonds.append(bond( 15 ,    'I', '1J-5'  , 'L' , 'L'))\n",
    "bonds.append(bond( 14 , '1J-5', 'TF.Ab'  , 'L' , 'L'))\n",
    "bonds.append(bond( 13 ,'TF.Ab', '1J-4'  , 'L' , 'L'))\n",
    "bonds.append(bond( 12 ,   'Rb', '1J-4'  , 'R' , 'L'))"
   ]
  },
  {
   "cell_type": "code",
   "execution_count": 4,
   "metadata": {},
   "outputs": [],
   "source": [
    "bonds.append(bond.from_bond_string('[SE   ]  <__16__ | [1J-5 ]' ))\n",
    "bonds.append(bond.from_bond_string('[1J-4 ] |<__11__   [0J-1 ]' ))\n",
    "bonds.append(bond.from_bond_string('[0J-1 ] | __10__>  [1J-3 ]' ))\n",
    "bonds.append(bond.from_bond_string('[Rv40 ]  <__ 9__ | [1J-3 ]' ))\n",
    "bonds.append(bond.from_bond_string('[1J-3 ] | __ 8__>  [Rl40 ]' ))\n",
    "bonds.append(bond.from_bond_string('[1J-3 ] | __ 7__>  [0J-2 ]' ))\n",
    "bonds.append(bond.from_bond_string('[1J-2 ] | __ 6__>  [Cacc1]' ))\n",
    "bonds.append(bond.from_bond_string('[Rp2  ]  <__ 5__ | [1J-2 ]' ))\n",
    "bonds.append(bond.from_bond_string('[0J-2 ] | __ 4__>  [1J-2 ]' ))\n",
    "bonds.append(bond.from_bond_string('[0J-2 ]   __ 3__>| [1J-1 ]' ))\n",
    "bonds.append(bond.from_bond_string('[1J-1 ]   __ 2__>| [Rp3  ]' ))\n",
    "bonds.append(bond.from_bond_string('[1J-1 ] | __ 1__>  [Cacc2]' ))\n",
    "\n",
    "bonds.append(bond.from_bond_string('[1J-5 ] | __17__>  [TF.an]' ))\n",
    "bonds.append(bond.from_bond_string('[TF.an] | __18__>  [1J-6 ]' ))\n",
    "bonds.append(bond.from_bond_string('[Ra   ]  <__19__ | [1J-6 ]' ))\n",
    "bonds.append(bond.from_bond_string('[1J-6 ] | __20__>  [Rv70 ]' ))\n",
    "bonds.append(bond.from_bond_string('[1J-6 ] | __21__>  [Rv20 ]' ))\n",
    "bonds.append(bond.from_bond_string('[1J-6 ] | __22__>  [0J-1 ]' ))"
   ]
  },
  {
   "cell_type": "code",
   "execution_count": 5,
   "metadata": {},
   "outputs": [
    {
     "name": "stdout",
     "output_type": "stream",
     "text": [
      "system([bond(15,\"I\",\"1J-5\",\"L\", \"L\"),\n",
      "bond(14,\"1J-5\",\"TF.Ab\",\"L\", \"L\"),\n",
      "bond(13,\"TF.Ab\",\"1J-4\",\"L\", \"L\"),\n",
      "bond(12,\"Rb\",\"1J-4\",\"R\", \"L\"),\n",
      "bond(16,\"SE\",\"1J-5\",\"R\", \"L\"),\n",
      "bond(11,\"1J-4\",\"0J-1\",\"L\", \"L\"),\n",
      "bond(10,\"0J-1\",\"1J-3\",\"L\", \"R\"),\n",
      "bond(9,\"Rv40\",\"1J-3\",\"R\", \"L\"),\n",
      "bond(8,\"1J-3\",\"Rl40\",\"L\", \"R\"),\n",
      "bond(7,\"1J-3\",\"0J-2\",\"L\", \"R\"),\n",
      "bond(6,\"1J-2\",\"Cacc1\",\"L\", \"R\"),\n",
      "bond(5,\"Rp2\",\"1J-2\",\"R\", \"L\"),\n",
      "bond(4,\"0J-2\",\"1J-2\",\"L\", \"R\"),\n",
      "bond(3,\"0J-2\",\"1J-1\",\"R\", \"R\"),\n",
      "bond(2,\"1J-1\",\"Rp3\",\"R\", \"R\"),\n",
      "bond(1,\"1J-1\",\"Cacc2\",\"L\", \"R\"),\n",
      "bond(17,\"1J-5\",\"TF.an\",\"L\", \"R\"),\n",
      "bond(18,\"TF.an\",\"1J-6\",\"L\", \"R\"),\n",
      "bond(19,\"Ra\",\"1J-6\",\"R\", \"L\"),\n",
      "bond(20,\"1J-6\",\"Rv70\",\"L\", \"R\"),\n",
      "bond(21,\"1J-6\",\"Rv20\",\"L\", \"R\"),\n",
      "bond(22,\"1J-6\",\"0J-1\",\"L\", \"R\"),\n",
      "])\n"
     ]
    }
   ],
   "source": [
    "for bond in bonds:\n",
    "    bgsys.add_bond(bond)\n",
    "\n",
    "print(bgsys)"
   ]
  },
  {
   "cell_type": "code",
   "execution_count": 6,
   "metadata": {},
   "outputs": [
    {
     "name": "stdout",
     "output_type": "stream",
     "text": [
      "['1J-5', '1J-4']\n"
     ]
    }
   ],
   "source": [
    "nbrs = bgsys.get_nbrs('TF.Ab')\n",
    "# print(bgsys.elem_nbrs)\n",
    "print(nbrs)"
   ]
  },
  {
   "cell_type": "code",
   "execution_count": 7,
   "metadata": {},
   "outputs": [],
   "source": [
    "e = element('Rb')"
   ]
  },
  {
   "cell_type": "code",
   "execution_count": 8,
   "metadata": {},
   "outputs": [
    {
     "name": "stdout",
     "output_type": "stream",
     "text": [
      "0J\n"
     ]
    }
   ],
   "source": [
    "print(element('0J-5').etype)"
   ]
  },
  {
   "cell_type": "code",
   "execution_count": 9,
   "metadata": {},
   "outputs": [],
   "source": [
    "#[{self.nls:5s}] {CSL}{PEL}__{self.num:2d}__{PER}{CSR} [{self.nrs:5s}]"
   ]
  },
  {
   "cell_type": "code",
   "execution_count": 10,
   "metadata": {},
   "outputs": [
    {
     "name": "stdout",
     "output_type": "stream",
     "text": [
      "[I    ] |<__15__   [1J-5 ]\n",
      "[1J-5 ] |<__14__   [TF.Ab]\n",
      "[TF.Ab] |<__13__   [1J-4 ]\n",
      "[Rb   ]  <__12__ | [1J-4 ]\n",
      "[SE   ]  <__16__ | [1J-5 ]\n",
      "[1J-4 ] |<__11__   [0J-1 ]\n",
      "[0J-1 ] | __10__>  [1J-3 ]\n",
      "[Rv40 ]  <__ 9__ | [1J-3 ]\n",
      "[1J-3 ] | __ 8__>  [Rl40 ]\n",
      "[1J-3 ] | __ 7__>  [0J-2 ]\n",
      "[1J-2 ] | __ 6__>  [Cacc1]\n",
      "[Rp2  ]  <__ 5__ | [1J-2 ]\n",
      "[0J-2 ] | __ 4__>  [1J-2 ]\n",
      "[0J-2 ]   __ 3__>| [1J-1 ]\n",
      "[1J-1 ]   __ 2__>| [Rp3  ]\n",
      "[1J-1 ] | __ 1__>  [Cacc2]\n",
      "[1J-5 ] | __17__>  [TF.an]\n",
      "[TF.an] | __18__>  [1J-6 ]\n",
      "[Ra   ]  <__19__ | [1J-6 ]\n",
      "[1J-6 ] | __20__>  [Rv70 ]\n",
      "[1J-6 ] | __21__>  [Rv20 ]\n",
      "[1J-6 ] | __22__>  [0J-1 ]\n"
     ]
    }
   ],
   "source": [
    "\n",
    "for b in bonds:\n",
    "    print(b)"
   ]
  },
  {
   "cell_type": "code",
   "execution_count": 11,
   "metadata": {},
   "outputs": [
    {
     "name": "stdout",
     "output_type": "stream",
     "text": [
      "node-L: 1J-6      \n",
      "node-R: 0J-1      \n",
      "causal stroke dir: L\n",
      "pos-e dir: R\n"
     ]
    }
   ],
   "source": [
    "print(f'node-L: {b.nls:10s}')\n",
    "print(f'node-R: {b.nrs:10s}')\n",
    "print(f'causal stroke dir: {b.csd}')\n",
    "print(f'pos-e dir: {b.ped}')\n"
   ]
  },
  {
   "cell_type": "code",
   "execution_count": 12,
   "metadata": {},
   "outputs": [
    {
     "name": "stdout",
     "output_type": "stream",
     "text": [
      "[1J-5 ] |<__14__   [TF.Ab]\n",
      "csl =|||\n",
      "pel =|<|\n",
      "   |12345|\n",
      "NL |1J-5|\n",
      "NR |TF.Ab|\n",
      "num|14|\n",
      "i think i got: bond(14, 1J-5, TF.Ab, L, L)\n"
     ]
    }
   ],
   "source": [
    "bond = bonds[1]\n",
    "bs  = bond.__str__()\n",
    "\n",
    "csl = bs[8]\n",
    "pel = bs[9]\n",
    "if csl == '|':\n",
    "  cs_dir = 'L'\n",
    "else:\n",
    "  cs_dir = 'R'\n",
    "\n",
    "if pel == '<':\n",
    "  pe_dir = 'L'\n",
    "else:\n",
    "  pe_dir = 'R'\n",
    "\n",
    "num = int(bs.split('__')[1])\n",
    "NL = bs[1:6].strip()\n",
    "NR = bs[-6:-1].strip()\n",
    "\n",
    "print(f'{bs}')\n",
    "print(f'csl =|{csl}|')\n",
    "print(f'pel =|{pel}|')\n",
    "print(f'   |12345|')\n",
    "print(f'NL |{NL}|')\n",
    "print(f'NR |{NR}|')\n",
    "print(f'num|{num:2d}|')\n",
    "\n",
    "print(f'i think i got: bond({num}, {NL}, {NR}, {cs_dir}, {pe_dir})')"
   ]
  },
  {
   "cell_type": "code",
   "execution_count": 13,
   "metadata": {},
   "outputs": [
    {
     "name": "stdout",
     "output_type": "stream",
     "text": [
      "[I    ] |<__15__   [1J-5 ]\n"
     ]
    }
   ],
   "source": [
    "bondref = bonds[0]\n",
    "bondref_str = bondref.__str__()\n",
    "\n",
    "newbond = bond.from_bond_string(bondref_str)\n",
    "\n",
    "print(newbond)"
   ]
  },
  {
   "cell_type": "code",
   "execution_count": 14,
   "metadata": {},
   "outputs": [
    {
     "name": "stdout",
     "output_type": "stream",
     "text": [
      "[I    ] |<__15__   [1J-5 ]\n",
      "[1J-5 ] |<__14__   [TF.Ab]\n",
      "[TF.Ab] |<__13__   [1J-4 ]\n",
      "[Rb   ]  <__12__ | [1J-4 ]\n",
      "[SE   ]  <__16__ | [1J-5 ]\n",
      "[1J-4 ] |<__11__   [0J-1 ]\n",
      "[0J-1 ] | __10__>  [1J-3 ]\n",
      "[Rv40 ]  <__ 9__ | [1J-3 ]\n",
      "[1J-3 ] | __ 8__>  [Rl40 ]\n",
      "[1J-3 ] | __ 7__>  [0J-2 ]\n",
      "[1J-2 ] | __ 6__>  [Cacc1]\n",
      "[Rp2  ]  <__ 5__ | [1J-2 ]\n",
      "[0J-2 ] | __ 4__>  [1J-2 ]\n",
      "[0J-2 ]   __ 3__>| [1J-1 ]\n",
      "[1J-1 ]   __ 2__>| [Rp3  ]\n",
      "[1J-1 ] | __ 1__>  [Cacc2]\n",
      "[1J-5 ] | __17__>  [TF.an]\n",
      "[TF.an] | __18__>  [1J-6 ]\n",
      "[Ra   ]  <__19__ | [1J-6 ]\n",
      "[1J-6 ] | __20__>  [Rv70 ]\n",
      "[1J-6 ] | __21__>  [Rv20 ]\n",
      "[1J-6 ] | __22__>  [0J-1 ]\n",
      "I ['1J-5']\n",
      "1J-5 ['I', 'TF.Ab', 'SE', 'TF.an']\n",
      "TF.Ab ['1J-5', '1J-4']\n",
      "1J-4 ['TF.Ab', 'Rb', '0J-1']\n",
      "Rb ['1J-4']\n",
      "SE ['1J-5']\n",
      "0J-1 ['1J-4', '1J-3', '1J-6']\n",
      "1J-3 ['0J-1', 'Rv40', 'Rl40', '0J-2']\n",
      "Rv40 ['1J-3']\n",
      "Rl40 ['1J-3']\n",
      "0J-2 ['1J-3', '1J-2', '1J-1']\n",
      "1J-2 ['Cacc1', 'Rp2', '0J-2']\n",
      "Cacc1 ['1J-2']\n",
      "Rp2 ['1J-2']\n",
      "1J-1 ['0J-2', 'Rp3', 'Cacc2']\n",
      "Rp3 ['1J-1']\n",
      "Cacc2 ['1J-1']\n",
      "TF.an ['1J-5', '1J-6']\n",
      "1J-6 ['TF.an', 'Ra', 'Rv70', 'Rv20', '0J-1']\n",
      "Ra ['1J-6']\n",
      "Rv70 ['1J-6']\n",
      "Rv20 ['1J-6']\n"
     ]
    }
   ],
   "source": [
    "bdict = {}\n",
    "for bond in bonds:\n",
    "    nls = bond.nls\n",
    "    nrs = bond.nrs\n",
    "    if nls in bdict:\n",
    "        bdict[nls].append(nrs)\n",
    "    else:\n",
    "        bdict.setdefault(nls,[])\n",
    "        bdict[nls].append(nrs)\n",
    "    \n",
    "    if nrs in bdict:\n",
    "        bdict[nrs].append(nls)\n",
    "    else:\n",
    "        bdict.setdefault(nrs,[])\n",
    "        bdict[nrs].append(nls)\n",
    "        \n",
    "    print(bond)\n",
    "\n",
    "for k, v in bdict.items():\n",
    "    print(k,v)"
   ]
  },
  {
   "cell_type": "code",
   "execution_count": 15,
   "metadata": {},
   "outputs": [
    {
     "data": {
      "text/plain": [
       "{'I': ['1J-5'],\n",
       " '1J-5': ['I', 'TF.Ab', 'SE', 'TF.an'],\n",
       " 'TF.Ab': ['1J-5', '1J-4'],\n",
       " '1J-4': ['TF.Ab', 'Rb', '0J-1'],\n",
       " 'Rb': ['1J-4'],\n",
       " 'SE': ['1J-5'],\n",
       " '0J-1': ['1J-4', '1J-3', '1J-6'],\n",
       " '1J-3': ['0J-1', 'Rv40', 'Rl40', '0J-2'],\n",
       " 'Rv40': ['1J-3'],\n",
       " 'Rl40': ['1J-3'],\n",
       " '0J-2': ['1J-3', '1J-2', '1J-1'],\n",
       " '1J-2': ['Cacc1', 'Rp2', '0J-2'],\n",
       " 'Cacc1': ['1J-2'],\n",
       " 'Rp2': ['1J-2'],\n",
       " '1J-1': ['0J-2', 'Rp3', 'Cacc2'],\n",
       " 'Rp3': ['1J-1'],\n",
       " 'Cacc2': ['1J-1'],\n",
       " 'TF.an': ['1J-5', '1J-6'],\n",
       " '1J-6': ['TF.an', 'Ra', 'Rv70', 'Rv20', '0J-1'],\n",
       " 'Ra': ['1J-6'],\n",
       " 'Rv70': ['1J-6'],\n",
       " 'Rv20': ['1J-6']}"
      ]
     },
     "execution_count": 15,
     "metadata": {},
     "output_type": "execute_result"
    }
   ],
   "source": [
    "bdict"
   ]
  },
  {
   "cell_type": "code",
   "execution_count": 16,
   "metadata": {},
   "outputs": [
    {
     "data": {
      "text/plain": [
       "{'I': ['1J-5'],\n",
       " '1J-5': ['I', 'TF.Ab', 'SE', 'TF.an'],\n",
       " 'TF.Ab': ['1J-5', '1J-4'],\n",
       " '1J-4': ['TF.Ab', 'Rb', '0J-1'],\n",
       " 'Rb': ['1J-4'],\n",
       " 'SE': ['1J-5'],\n",
       " '0J-1': ['1J-4', '1J-3', '1J-6'],\n",
       " '1J-3': ['0J-1', 'Rv40', 'Rl40', '0J-2'],\n",
       " 'Rv40': ['1J-3'],\n",
       " 'Rl40': ['1J-3'],\n",
       " '0J-2': ['1J-3', '1J-2', '1J-1'],\n",
       " '1J-2': ['Cacc1', 'Rp2', '0J-2'],\n",
       " 'Cacc1': ['1J-2'],\n",
       " 'Rp2': ['1J-2'],\n",
       " '1J-1': ['0J-2', 'Rp3', 'Cacc2'],\n",
       " 'Rp3': ['1J-1'],\n",
       " 'Cacc2': ['1J-1'],\n",
       " 'TF.an': ['1J-5', '1J-6'],\n",
       " '1J-6': ['TF.an', 'Ra', 'Rv70', 'Rv20', '0J-1'],\n",
       " 'Ra': ['1J-6'],\n",
       " 'Rv70': ['1J-6'],\n",
       " 'Rv20': ['1J-6']}"
      ]
     },
     "execution_count": 16,
     "metadata": {},
     "output_type": "execute_result"
    }
   ],
   "source": [
    "bgsys.elem_nbrs"
   ]
  },
  {
   "cell_type": "code",
   "execution_count": 17,
   "metadata": {},
   "outputs": [],
   "source": [
    "import networkx as nx\n",
    "import matplotlib.pylab as plt"
   ]
  },
  {
   "cell_type": "code",
   "execution_count": 18,
   "metadata": {},
   "outputs": [],
   "source": [
    "graph_dict = {\n",
    "    'A' : ['B', 'S'],\n",
    "    'B' : ['A'],\n",
    "    'C' : ['D','E','F','S'],\n",
    "    'D' : ['C'],\n",
    "    'E' : ['C','H'],\n",
    "    'F' : ['C','G'],\n",
    "    'G' : ['F','S'],\n",
    "    'H' : ['E','G'],\n",
    "    'S' : ['A','C' 'G'],\n",
    "}"
   ]
  },
  {
   "cell_type": "code",
   "execution_count": 19,
   "metadata": {},
   "outputs": [],
   "source": [
    "#G['TF.Ab']['1J-5']['color'] = 'red'\n",
    "G = nx.Graph(bdict)"
   ]
  },
  {
   "cell_type": "code",
   "execution_count": 20,
   "metadata": {},
   "outputs": [
    {
     "data": {
      "text/plain": [
       "[bond(15,\"I\",\"1J-5\", \"L\", \"L\"),\n",
       " bond(14,\"1J-5\",\"TF.Ab\", \"L\", \"L\"),\n",
       " bond(13,\"TF.Ab\",\"1J-4\", \"L\", \"L\"),\n",
       " bond(12,\"Rb\",\"1J-4\", \"R\", \"L\"),\n",
       " bond(16,\"SE\",\"1J-5\", \"R\", \"L\"),\n",
       " bond(11,\"1J-4\",\"0J-1\", \"L\", \"L\"),\n",
       " bond(10,\"0J-1\",\"1J-3\", \"L\", \"R\"),\n",
       " bond(9,\"Rv40\",\"1J-3\", \"R\", \"L\"),\n",
       " bond(8,\"1J-3\",\"Rl40\", \"L\", \"R\"),\n",
       " bond(7,\"1J-3\",\"0J-2\", \"L\", \"R\"),\n",
       " bond(6,\"1J-2\",\"Cacc1\", \"L\", \"R\"),\n",
       " bond(5,\"Rp2\",\"1J-2\", \"R\", \"L\"),\n",
       " bond(4,\"0J-2\",\"1J-2\", \"L\", \"R\"),\n",
       " bond(3,\"0J-2\",\"1J-1\", \"R\", \"R\"),\n",
       " bond(2,\"1J-1\",\"Rp3\", \"R\", \"R\"),\n",
       " bond(1,\"1J-1\",\"Cacc2\", \"L\", \"R\"),\n",
       " bond(17,\"1J-5\",\"TF.an\", \"L\", \"R\"),\n",
       " bond(18,\"TF.an\",\"1J-6\", \"L\", \"R\"),\n",
       " bond(19,\"Ra\",\"1J-6\", \"R\", \"L\"),\n",
       " bond(20,\"1J-6\",\"Rv70\", \"L\", \"R\"),\n",
       " bond(21,\"1J-6\",\"Rv20\", \"L\", \"R\"),\n",
       " bond(22,\"1J-6\",\"0J-1\", \"L\", \"R\")]"
      ]
     },
     "execution_count": 20,
     "metadata": {},
     "output_type": "execute_result"
    }
   ],
   "source": [
    "\n",
    "bonds"
   ]
  },
  {
   "cell_type": "code",
   "execution_count": 21,
   "metadata": {},
   "outputs": [
    {
     "name": "stdout",
     "output_type": "stream",
     "text": [
      "__________________\n",
      "I    -1J-5  pair belong to bond #15\n",
      "__________________\n",
      "1J-5 -I     pair belong to bond #15\n",
      "1J-5 -TF.Ab pair belong to bond #14\n",
      "1J-5 -SE    pair belong to bond #16\n",
      "1J-5 -TF.an pair belong to bond #17\n",
      "__________________\n",
      "TF.Ab-1J-5  pair belong to bond #14\n",
      "TF.Ab-1J-4  pair belong to bond #13\n",
      "__________________\n",
      "1J-4 -TF.Ab pair belong to bond #13\n",
      "1J-4 -Rb    pair belong to bond #12\n",
      "1J-4 -0J-1  pair belong to bond #11\n",
      "__________________\n",
      "Rb   -1J-4  pair belong to bond #12\n",
      "__________________\n",
      "SE   -1J-5  pair belong to bond #16\n",
      "__________________\n",
      "0J-1 -1J-4  pair belong to bond #11\n",
      "0J-1 -1J-3  pair belong to bond #10\n",
      "0J-1 -1J-6  pair belong to bond #22\n",
      "__________________\n",
      "1J-3 -0J-1  pair belong to bond #10\n",
      "1J-3 -Rv40  pair belong to bond #9\n",
      "1J-3 -Rl40  pair belong to bond #8\n",
      "1J-3 -0J-2  pair belong to bond #7\n",
      "__________________\n",
      "Rv40 -1J-3  pair belong to bond #9\n",
      "__________________\n",
      "Rl40 -1J-3  pair belong to bond #8\n",
      "__________________\n",
      "0J-2 -1J-3  pair belong to bond #7\n",
      "0J-2 -1J-2  pair belong to bond #4\n",
      "0J-2 -1J-1  pair belong to bond #3\n",
      "__________________\n",
      "1J-2 -0J-2  pair belong to bond #4\n",
      "1J-2 -Cacc1 pair belong to bond #6\n",
      "1J-2 -Rp2   pair belong to bond #5\n",
      "__________________\n",
      "Cacc1-1J-2  pair belong to bond #6\n",
      "__________________\n",
      "Rp2  -1J-2  pair belong to bond #5\n",
      "__________________\n",
      "1J-1 -0J-2  pair belong to bond #3\n",
      "1J-1 -Rp3   pair belong to bond #2\n",
      "1J-1 -Cacc2 pair belong to bond #1\n",
      "__________________\n",
      "Rp3  -1J-1  pair belong to bond #2\n",
      "__________________\n",
      "Cacc2-1J-1  pair belong to bond #1\n",
      "__________________\n",
      "TF.an-1J-5  pair belong to bond #17\n",
      "TF.an-1J-6  pair belong to bond #18\n",
      "__________________\n",
      "1J-6 -0J-1  pair belong to bond #22\n",
      "1J-6 -TF.an pair belong to bond #18\n",
      "1J-6 -Ra    pair belong to bond #19\n",
      "1J-6 -Rv70  pair belong to bond #20\n",
      "1J-6 -Rv20  pair belong to bond #21\n",
      "__________________\n",
      "Ra   -1J-6  pair belong to bond #19\n",
      "__________________\n",
      "Rv70 -1J-6  pair belong to bond #20\n",
      "__________________\n",
      "Rv20 -1J-6  pair belong to bond #21\n"
     ]
    }
   ],
   "source": [
    "for n in list(G.nodes):\n",
    "    print(f'__________________')\n",
    "    #fstr = \"\"\n",
    "    #print(f'{n:5s}: {G.adj[n]}')\n",
    "    for nbr in G.adj[n]:\n",
    "        for bond in bonds:\n",
    "            if bond.nrs == n and bond.nls == nbr:\n",
    "                print(f'{n:5s}-{nbr:5s} pair belong to bond #{bond.num}')\n",
    "                G[n][nbr]['bond_num'] = bond.num\n",
    "            elif bond.nls == n and bond.nrs == nbr:\n",
    "                print(f'{n:5s}-{nbr:5s} pair belong to bond #{bond.num}')\n",
    "                G[n][nbr]['bond_num'] = bond.num\n",
    "    #    fstr += f'|{nbr:5s}| '\n",
    "    #print(f'{n:5s} with friends: {fstr}')\n",
    "#for e in list(G.edges):"
   ]
  },
  {
   "cell_type": "code",
   "execution_count": 22,
   "metadata": {},
   "outputs": [
    {
     "name": "stdout",
     "output_type": "stream",
     "text": [
      "21\n",
      "[1J-6 ] | __21__>  [Rv20 ]\n"
     ]
    }
   ],
   "source": [
    "num = bgsys.get_bond_num('Rv20', '1J-6')\n",
    "print(num)\n",
    "\n",
    "for bond in bgsys.bonds:\n",
    "    if bond.num == num:\n",
    "        print(bond)"
   ]
  },
  {
   "cell_type": "code",
   "execution_count": 23,
   "metadata": {},
   "outputs": [
    {
     "name": "stdout",
     "output_type": "stream",
     "text": [
      "[1J-6 ] | __21__>  [Rv20 ]\n"
     ]
    }
   ],
   "source": [
    "b = bgsys.get_bond_bynum(21)\n",
    "print(b)"
   ]
  },
  {
   "cell_type": "code",
   "execution_count": 24,
   "metadata": {},
   "outputs": [
    {
     "data": {
      "text/plain": [
       "[('I', '1J-5'),\n",
       " ('1J-5', 'TF.Ab'),\n",
       " ('1J-5', 'SE'),\n",
       " ('1J-5', 'TF.an'),\n",
       " ('TF.Ab', '1J-4'),\n",
       " ('1J-4', 'Rb'),\n",
       " ('1J-4', '0J-1'),\n",
       " ('0J-1', '1J-3'),\n",
       " ('0J-1', '1J-6'),\n",
       " ('1J-3', 'Rv40'),\n",
       " ('1J-3', 'Rl40'),\n",
       " ('1J-3', '0J-2'),\n",
       " ('0J-2', '1J-2'),\n",
       " ('0J-2', '1J-1'),\n",
       " ('1J-2', 'Cacc1'),\n",
       " ('1J-2', 'Rp2'),\n",
       " ('1J-1', 'Rp3'),\n",
       " ('1J-1', 'Cacc2'),\n",
       " ('TF.an', '1J-6'),\n",
       " ('1J-6', 'Ra'),\n",
       " ('1J-6', 'Rv70'),\n",
       " ('1J-6', 'Rv20')]"
      ]
     },
     "execution_count": 24,
     "metadata": {},
     "output_type": "execute_result"
    }
   ],
   "source": [
    "list(G.edges())"
   ]
  },
  {
   "cell_type": "code",
   "execution_count": 25,
   "metadata": {},
   "outputs": [],
   "source": [
    "def get_bond(bond_num, bondlist):\n",
    "    for bond in bondlist:\n",
    "        if bond_num == bond.num:\n",
    "            return bond\n",
    "    return None"
   ]
  },
  {
   "cell_type": "code",
   "execution_count": 26,
   "metadata": {},
   "outputs": [
    {
     "data": {
      "text/plain": [
       "15"
      ]
     },
     "execution_count": 26,
     "metadata": {},
     "output_type": "execute_result"
    }
   ],
   "source": [
    "bgsys.get_bond_num('I','1J-5')"
   ]
  },
  {
   "cell_type": "code",
   "execution_count": 27,
   "metadata": {},
   "outputs": [
    {
     "name": "stdout",
     "output_type": "stream",
     "text": [
      "[I    ] |<__15__   [1J-5 ]\n"
     ]
    }
   ],
   "source": [
    "print(bgsys.get_bond('I','1J-5'))"
   ]
  },
  {
   "cell_type": "code",
   "execution_count": 28,
   "metadata": {},
   "outputs": [
    {
     "name": "stdout",
     "output_type": "stream",
     "text": [
      "SE    has nb = 1J-5, connected via bond: [SE   ]  <__16__ | [1J-5 ]\n"
     ]
    }
   ],
   "source": [
    "# get the single port elements\n",
    "sp = bgsys.get_single_ports()\n",
    "\n",
    "# loop over single port elements\n",
    "for e in sp:\n",
    "    if e.startswith('SE'):\n",
    "        # get neibors of sp element\n",
    "        nb = bgsys.get_nbrs(e)[0]\n",
    "        # get bond associated with these two elements\n",
    "        bond = bgsys.get_bond(e,nb)\n",
    "        print(f'{e:5s} has nb = {nb}, connected via bond: {bond}')"
   ]
  },
  {
   "cell_type": "code",
   "execution_count": 29,
   "metadata": {},
   "outputs": [
    {
     "data": {
      "image/png": "[encoded data removed]",
      "text/plain": [
       "<Figure size 432x288 with 1 Axes>"
      ]
     },
     "metadata": {},
     "output_type": "display_data"
    }
   ],
   "source": [
    "#G = nx.Graph(graph_dict)\n",
    "\n",
    "options = {\n",
    "    'node_size' : 700,\n",
    "    'width': 3,\n",
    "}\n",
    "pos = nx.spring_layout(G)\n",
    "nx.draw_networkx_nodes( G,pos, **options)\n",
    "nx.draw_networkx_edges( G,pos, **options)\n",
    "nx.draw_networkx_labels(G,pos, **options)\n",
    "\n",
    "plt.show()"
   ]
  },
  {
   "cell_type": "code",
   "execution_count": 30,
   "metadata": {},
   "outputs": [
    {
     "data": {
      "text/plain": [
       "['I',\n",
       " '1J-5',\n",
       " 'TF.Ab',\n",
       " '1J-4',\n",
       " 'Rb',\n",
       " 'SE',\n",
       " '0J-1',\n",
       " '1J-3',\n",
       " 'Rv40',\n",
       " 'Rl40',\n",
       " '0J-2',\n",
       " '1J-2',\n",
       " 'Cacc1',\n",
       " 'Rp2',\n",
       " '1J-1',\n",
       " 'Rp3',\n",
       " 'Cacc2',\n",
       " 'TF.an',\n",
       " '1J-6',\n",
       " 'Ra',\n",
       " 'Rv70',\n",
       " 'Rv20']"
      ]
     },
     "execution_count": 30,
     "metadata": {},
     "output_type": "execute_result"
    }
   ],
   "source": [
    "list(G.nodes)"
   ]
  },
  {
   "cell_type": "code",
   "execution_count": 31,
   "metadata": {},
   "outputs": [],
   "source": [
    "b = bgsys.get_bond('I','1J-5')\n",
    "elem = elem_I('I')"
   ]
  },
  {
   "cell_type": "code",
   "execution_count": 32,
   "metadata": {},
   "outputs": [
    {
     "name": "stdout",
     "output_type": "stream",
     "text": [
      "I:I    \n"
     ]
    }
   ],
   "source": [
    "print(elem)"
   ]
  },
  {
   "cell_type": "code",
   "execution_count": 33,
   "metadata": {},
   "outputs": [
    {
     "name": "stdout",
     "output_type": "stream",
     "text": [
      "bond# 15 : e = e_15\n",
      "bond# 15 : f = f_15\n"
     ]
    }
   ],
   "source": [
    "b = bgsys.get_bond_bynum(15)\n",
    "print(f'bond# {b.num} : e = {b.e}')\n",
    "print(f'bond# {b.num} : f = {b.f}')"
   ]
  },
  {
   "cell_type": "code",
   "execution_count": 34,
   "metadata": {},
   "outputs": [],
   "source": [
    "two_port_elems = bgsys.get_two_ports()"
   ]
  },
  {
   "cell_type": "code",
   "execution_count": 35,
   "metadata": {},
   "outputs": [
    {
     "name": "stdout",
     "output_type": "stream",
     "text": [
      "found e:TF.Ab, nbr: 1J-5 bond: [1J-5 ] |<__14__   [TF.Ab]\n",
      "found e:TF.Ab, nbr: 1J-4 bond: [TF.Ab] |<__13__   [1J-4 ]\n",
      "found e:TF.an, nbr: 1J-5 bond: [1J-5 ] | __17__>  [TF.an]\n",
      "found e:TF.an, nbr: 1J-6 bond: [TF.an] | __18__>  [1J-6 ]\n"
     ]
    }
   ],
   "source": [
    "for e in two_port_elems:\n",
    "    nbrs = bgsys.get_nbrs(e)\n",
    "    for nbr in nbrs:\n",
    "        b = bgsys.get_bond(e, nbr)\n",
    "        print(f'found e:{e}, nbr: {nbr} bond: {b}')"
   ]
  },
  {
   "cell_type": "code",
   "execution_count": 36,
   "metadata": {},
   "outputs": [
    {
     "name": "stdout",
     "output_type": "stream",
     "text": [
      "TF:TF.Ab\n",
      "[1J-5 ] |<__14__   [TF.Ab] [TF.Ab] |<__13__   [1J-4 ]\n",
      "p1.e = m*TF.Ab.p2.e\n",
      "p1.b.e m*TF.Ab.p2.e_14\n",
      "p2.e = TF.Ab.p2.e\n",
      "p2.b.e e_13\n",
      "p1.f = TF.Ab.p1.f\n",
      "p1.b.f f_14\n",
      "p2.f = m*TF.Ab.p1.f\n",
      "p2.b.f m*TF.Ab.p1.f_13\n",
      "\n",
      "TF:TF.an\n",
      "[1J-5 ] | __17__>  [TF.an] [TF.an] | __18__>  [1J-6 ]\n",
      "p1.e = m*TF.an.p2.e\n",
      "p1.b.e m*TF.an.p2.e_17\n",
      "p2.e = TF.an.p2.e\n",
      "p2.b.e e_18\n",
      "p1.f = TF.an.p1.f\n",
      "p1.b.f f_17\n",
      "p2.f = m*TF.an.p1.f\n",
      "p2.b.f m*TF.an.p1.f_18\n",
      "\n",
      "b.e = e_13\n",
      "b.f = m*TF.Ab.p1.f_13\n"
     ]
    }
   ],
   "source": [
    "for e in two_port_elems:\n",
    "    bonds = bgsys.get_elem_bonds(e)\n",
    "    TFelem = elem_TF(e,bonds[0],bonds[1])\n",
    "    print(TFelem)\n",
    "    print(TFelem.p1['b'], TFelem.p2['b'])\n",
    "    print(f\"p1.e = {TFelem.p1['e']}\")\n",
    "    print(f\"p1.b.e {TFelem.p1['b'].e}\")\n",
    "    print(f\"p2.e = {TFelem.p2['e']}\")\n",
    "    print(f\"p2.b.e {TFelem.p2['b'].e}\")\n",
    "    print(f\"p1.f = {TFelem.p1['f']}\")\n",
    "    print(f\"p1.b.f {TFelem.p1['b'].f}\")\n",
    "    print(f\"p2.f = {TFelem.p2['f']}\")\n",
    "    print(f\"p2.b.f {TFelem.p2['b'].f}\")\n",
    "    print()\n",
    "\n",
    "b = bgsys.get_bond_bynum(13)\n",
    "print(f\"b.e = {b.e}\")\n",
    "print(f\"b.f = {b.f}\")"
   ]
  },
  {
   "cell_type": "code",
   "execution_count": 48,
   "metadata": {},
   "outputs": [
    {
     "name": "stdout",
     "output_type": "stream",
     "text": [
      "[0J-2 ]  <__ 7__ | [1J-3 ]\n",
      "[0J-2 ] | __ 4__>  [1J-2 ]\n",
      "[0J-2 ]   __ 3__>| [1J-1 ]\n",
      "strong bond is: [0J-2 ] | __ 4__>  [1J-2 ]\n",
      "sb.e = e_4\n"
     ]
    }
   ],
   "source": [
    "e = '0J-2'\n",
    "bonds = bgsys.get_elem_bonds(e)\n",
    "sb = bonds[0]\n",
    "for bond in bonds:\n",
    "    if bond.nls == e:\n",
    "        print(bond)\n",
    "    else:\n",
    "        print(bond.print_rev())\n",
    "    if bond.nls == e:\n",
    "        if bond.csd == 'L':\n",
    "            sb = bond\n",
    "    else:\n",
    "        if bond.csd == 'R':\n",
    "            sb = bond\n",
    "\n",
    "print(f'strong bond is: {sb}')\n",
    "print(f'sb.e = {sb.e}')"
   ]
  },
  {
   "cell_type": "code",
   "execution_count": 49,
   "metadata": {},
   "outputs": [
    {
     "name": "stdout",
     "output_type": "stream",
     "text": [
      "strong bond is [0J-1 ] | __10__>  [1J-3 ]\n",
      "[1J-3 ]  <__10__ | [0J-1 ]\n",
      "[1J-3 ] | __ 9__>  [Rv40 ]\n",
      "[1J-3 ] | __ 8__>  [Rl40 ]\n",
      "[1J-3 ] | __ 7__>  [0J-2 ]\n"
     ]
    }
   ],
   "source": [
    "e = '1J-3'\n",
    "bonds = bgsys.get_elem_bonds(e)\n",
    "e0j = elem_1J(e, bonds)\n",
    "print(f'strong bond is {e0j.sb}')\n",
    "e0j.print_bonds()"
   ]
  },
  {
   "cell_type": "code",
   "execution_count": 50,
   "metadata": {},
   "outputs": [
    {
     "name": "stdout",
     "output_type": "stream",
     "text": [
      "bond: [1J-3 ]  <__10__ | [0J-1 ] nls= 0J-1 , b.e = -( -e_9 -e_8 -e_7)_10\n",
      "bond: [1J-3 ] | __ 9__>  [Rv40 ] nls= Rv40 , b.e = +( +e_10 -e_8 -e_7)_9\n",
      "bond: [1J-3 ] | __ 8__>  [Rl40 ] nls= 1J-3 , b.e = +( +e_10 -e_9 -e_7)_8\n",
      "bond: [1J-3 ] | __ 7__>  [0J-2 ] nls= 1J-3 , b.e = +( +e_10 -e_9 -e_8)_7\n"
     ]
    }
   ],
   "source": [
    "for b in bonds:\n",
    "    pin = b.is_ped_into_elem(e)\n",
    "    if b.nls == e:\n",
    "        print(f'bond: {b} nls= {b.nls:5s}, b.e = {b.e}')\n",
    "        #print(f'bond: {b} nls= {b.nls}, b.f = {b.f}')\n",
    "    else:\n",
    "        print(f'bond: {b.print_rev()} nls= {b.nls:5s}, b.e = {b.e}')\n",
    "        #print(f'bond: {b.print_rev()} nls= {b.nls}, b.f = {b.f}')\n",
    "    \n",
    "    # if b.nls == e and b.ped == 'L':\n",
    "    #     print(f'bond {b.num} pwrIN=1')\n",
    "    # if b.nrs == e and b.ped == 'R':\n",
    "    #     print(f'bond {b.num} pwrIN=1')"
   ]
  },
  {
   "cell_type": "code",
   "execution_count": 40,
   "metadata": {},
   "outputs": [
    {
     "name": "stdout",
     "output_type": "stream",
     "text": [
      "[1J-6 ]  <__18__ | [TF.an] --> [TF.an]  <__17__ | [1J-5 ]\n",
      "---------------\n",
      "[1J-6 ]  <__18__ | [TF.an]\n",
      "\n",
      "[OK] NODE L is TF.an\n",
      "[TF.an] | __18__>  [1J-6 ]\n",
      "CS dir = L\n",
      "wow. Causal stroke is on the left!\n",
      "TF is giving flow to the 1st bond\n"
     ]
    }
   ],
   "source": [
    "e = 'TF.an'\n",
    "\n",
    "p1 = {\n",
    "    'e' : e+'.'+'p1.e',\n",
    "    'f' : e+'.'+'p1.f',\n",
    "}\n",
    "p2 = {\n",
    "    'e' : e+'.'+'p2.e',\n",
    "    'f' : e+'.'+'p2.f',\n",
    "}\n",
    "\n",
    "bonds = bgsys.get_elem_bonds(e)\n",
    "p2['b'] = bonds[0]\n",
    "p1['b'] = bonds[1]\n",
    "\n",
    "if p1['b'].nls == e:\n",
    "    print(f\"{p1['b'].print_rev()} --> {p2['b'].print_rev()}\")\n",
    "else:\n",
    "    print(f\"{p1['b']} --> {p2['b']}\")\n",
    "\n",
    "\n",
    "#for b in bonds:\n",
    "# check port 1's bond only?? i think\n",
    "b = p1['b']\n",
    "print('---------------')\n",
    "if b.nls == e:\n",
    "    print(b.print_rev())\n",
    "else:\n",
    "    print(b)\n",
    "print()\n",
    "\n",
    "# work with our TF elem on the right side\n",
    "if b.nrs == e:\n",
    "    print(f'[OK] NODE R is {e}')\n",
    "    # check causal stroke direction\n",
    "    print(f'CS dir = {b.csd}')\n",
    "    \n",
    "    if b.csd == 'L':\n",
    "        print('wow. Causal stroke is on the left!')\n",
    "        print('TF is getting flow from the 1st bond')\n",
    "        p2['f'] = 'm*' + p1['f']\n",
    "        p1['e'] = 'm*' + p2['e']\n",
    "    else:\n",
    "        print('wowzer. cs is on the Right')\n",
    "        print('TF is getting effort from the 1st bond')\n",
    "        p1['f'] = p2['f'] + '/m'\n",
    "        p2['e'] = p1['e'] + '/m'\n",
    "        \n",
    "# case where TF elem is on the left side\n",
    "else:\n",
    "    print(f'[OK] NODE L is {e}')\n",
    "    print(b)\n",
    "    # check causal stroke direction\n",
    "    print(f'CS dir = {b.csd}')\n",
    "    if b.csd == 'L':\n",
    "        print('wow. Causal stroke is on the left!')\n",
    "        print('TF is giving flow to the 1st bond')\n",
    "        p1['f'] = p2['f'] + '/m'\n",
    "        p2['e'] = p1['e'] + '/m'\n",
    "    else:\n",
    "        print('wowzer. cs is on the Right')\n",
    "        print('TF is giving effort to the 1st bond')\n",
    "        p2['f'] = 'm*' + p1['f']\n",
    "        p1['e'] = 'm*' + p2['e']\n"
   ]
  },
  {
   "cell_type": "code",
   "execution_count": 41,
   "metadata": {},
   "outputs": [
    {
     "name": "stdout",
     "output_type": "stream",
     "text": [
      "p1['e'] = TF.an.p1.e\n",
      "p2['e'] = TF.an.p1.e/m\n",
      "p1['f'] = TF.an.p2.f/m\n",
      "p2['f'] = TF.an.p2.f\n"
     ]
    }
   ],
   "source": [
    "print(f\"p1['e'] = {p1['e']}\")\n",
    "print(f\"p2['e'] = {p2['e']}\")\n",
    "print(f\"p1['f'] = {p1['f']}\")\n",
    "print(f\"p2['f'] = {p2['f']}\")"
   ]
  },
  {
   "cell_type": "code",
   "execution_count": 42,
   "metadata": {},
   "outputs": [
    {
     "name": "stdout",
     "output_type": "stream",
     "text": [
      "R:Rv20 \n",
      "   e = R*f\n",
      "   f = e/R\n"
     ]
    }
   ],
   "source": [
    "R = elem_R('Rv20')\n",
    "print(R)\n",
    "print(f'   e = {R.e}')\n",
    "print(f'   f = {R.f}')"
   ]
  },
  {
   "cell_type": "code",
   "execution_count": 43,
   "metadata": {},
   "outputs": [
    {
     "name": "stdout",
     "output_type": "stream",
     "text": [
      "C:Cacc1\n",
      "   e = q/C\n"
     ]
    }
   ],
   "source": [
    "C = elem_C('Cacc1')\n",
    "print(C)\n",
    "print(f'   e = {C.e}')"
   ]
  },
  {
   "cell_type": "code",
   "execution_count": 44,
   "metadata": {},
   "outputs": [
    {
     "name": "stdout",
     "output_type": "stream",
     "text": [
      "SE:SE12 \n",
      "   e = E(t)\n"
     ]
    }
   ],
   "source": [
    "elem = elem_SE('SE12')\n",
    "print(elem)\n",
    "print(f'   e = {elem.e}')"
   ]
  }
 ],
 "metadata": {
  "kernelspec": {
   "display_name": "Python 3",
   "language": "python",
   "name": "python3"
  },
  "language_info": {
   "codemirror_mode": {
    "name": "ipython",
    "version": 3
   },
   "file_extension": ".py",
   "mimetype": "text/x-python",
   "name": "python",
   "nbconvert_exporter": "python",
   "pygments_lexer": "ipython3",
   "version": "3.7.6"
  }
 },
 "nbformat": 4,
 "nbformat_minor": 4
}
