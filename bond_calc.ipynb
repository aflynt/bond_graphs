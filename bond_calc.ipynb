{
 "cells": [
  {
   "cell_type": "code",
   "execution_count": 1,
   "metadata": {},
   "outputs": [],
   "source": [
    "from bg import *"
   ]
  },
  {
   "cell_type": "code",
   "execution_count": 2,
   "metadata": {},
   "outputs": [],
   "source": [
    "bgsys = system([])"
   ]
  },
  {
   "cell_type": "code",
   "execution_count": 3,
   "metadata": {},
   "outputs": [],
   "source": [
    "bonds = []"
   ]
  },
  {
   "cell_type": "code",
   "execution_count": 4,
   "metadata": {},
   "outputs": [],
   "source": [
    "bonds.append(bond.from_bond_string('[SE   ]   __ 1__>| [1J   ]'))\n",
    "bonds.append(bond.from_bond_string('[I2   ] |<__ 2__   [1J   ]'))\n",
    "bonds.append(bond.from_bond_string('[C3   ]  <__ 3__ | [1J   ]'))\n",
    "bonds.append(bond.from_bond_string('[1J   ] | __ 4__>  [R    ]'))\n",
    "bonds.append(bond.from_bond_string('[1J   ] | __ 5__>  [TF_m ]'))\n",
    "bonds.append(bond.from_bond_string('[TF_m ] | __ 6__>  [0J   ]'))\n",
    "bonds.append(bond.from_bond_string('[0J   ] | __ 7__>  [C7   ]'))\n",
    "bonds.append(bond.from_bond_string('[0J   ]   __ 8__>| [I8   ]'))"
   ]
  },
  {
   "cell_type": "code",
   "execution_count": 5,
   "metadata": {},
   "outputs": [],
   "source": [
    "#bonds.append(bond( 15 ,    'I', '1J-5'  , 'L' , 'L'))\n",
    "#bonds.append(bond( 14 , '1J-5', 'TF.Ab'  , 'L' , 'L'))\n",
    "#bonds.append(bond( 13 ,'TF.Ab', '1J-4'  , 'L' , 'L'))\n",
    "#bonds.append(bond( 12 ,   'Rb', '1J-4'  , 'R' , 'L'))\n",
    "#bonds.append(bond.from_bond_string('[SE   ]  <__16__ | [1J-5 ]' ))\n",
    "#bonds.append(bond.from_bond_string('[1J-4 ] |<__11__   [0J-1 ]' ))\n",
    "#bonds.append(bond.from_bond_string('[0J-1 ] | __10__>  [1J-3 ]' ))\n",
    "#bonds.append(bond.from_bond_string('[Rv40 ]  <__ 9__ | [1J-3 ]' ))\n",
    "#bonds.append(bond.from_bond_string('[1J-3 ] | __ 8__>  [Rl40 ]' ))\n",
    "#bonds.append(bond.from_bond_string('[1J-3 ] | __ 7__>  [0J-2 ]' ))\n",
    "#bonds.append(bond.from_bond_string('[1J-2 ] | __ 6__>  [Cacc1]' ))\n",
    "#bonds.append(bond.from_bond_string('[Rp2  ]  <__ 5__ | [1J-2 ]' ))\n",
    "#bonds.append(bond.from_bond_string('[0J-2 ] | __ 4__>  [1J-2 ]' ))\n",
    "#bonds.append(bond.from_bond_string('[0J-2 ]   __ 3__>| [1J-1 ]' ))\n",
    "#bonds.append(bond.from_bond_string('[1J-1 ]   __ 2__>| [Rp3  ]' ))\n",
    "#bonds.append(bond.from_bond_string('[1J-1 ] | __ 1__>  [Cacc2]' ))\n",
    "#bonds.append(bond.from_bond_string('[1J-5 ] | __17__>  [TF.an]' ))\n",
    "#bonds.append(bond.from_bond_string('[TF.an] | __18__>  [1J-6 ]' ))\n",
    "#bonds.append(bond.from_bond_string('[Ra   ]  <__19__ | [1J-6 ]' ))\n",
    "#bonds.append(bond.from_bond_string('[1J-6 ] | __20__>  [Rv70 ]' ))\n",
    "#bonds.append(bond.from_bond_string('[1J-6 ] | __21__>  [Rv20 ]' ))\n",
    "#bonds.append(bond.from_bond_string('[1J-6 ] | __22__>  [0J-1 ]' ))"
   ]
  },
  {
   "cell_type": "code",
   "execution_count": 6,
   "metadata": {},
   "outputs": [
    {
     "name": "stdout",
     "output_type": "stream",
     "text": [
      "system([bond(1,\"SE\",\"1J\",\"R\", \"R\"),\n",
      "bond(2,\"I2\",\"1J\",\"L\", \"L\"),\n",
      "bond(3,\"C3\",\"1J\",\"R\", \"L\"),\n",
      "bond(4,\"1J\",\"R\",\"L\", \"R\"),\n",
      "bond(5,\"1J\",\"TF_m\",\"L\", \"R\"),\n",
      "bond(6,\"TF_m\",\"0J\",\"L\", \"R\"),\n",
      "bond(7,\"0J\",\"C7\",\"L\", \"R\"),\n",
      "bond(8,\"0J\",\"I8\",\"R\", \"R\"),\n",
      "])\n"
     ]
    }
   ],
   "source": [
    "# add bonds to the system\n",
    "for bond in bonds:\n",
    "    bgsys.add_bond(bond)\n",
    "\n",
    "print(bgsys)"
   ]
  },
  {
   "cell_type": "markdown",
   "metadata": {},
   "source": [
    "### LOOP OVER 1 PORTS\n",
    "$  I,R,C,SE \\leftharpoonup$"
   ]
  },
  {
   "cell_type": "code",
   "execution_count": 7,
   "metadata": {},
   "outputs": [
    {
     "name": "stdout",
     "output_type": "stream",
     "text": [
      "['SE', 'I2', 'C3', 'R', 'C7', 'I8']\n"
     ]
    }
   ],
   "source": [
    "e1s = bgsys.get_single_ports()\n",
    "print(e1s)"
   ]
  },
  {
   "cell_type": "code",
   "execution_count": 8,
   "metadata": {},
   "outputs": [
    {
     "name": "stdout",
     "output_type": "stream",
     "text": [
      "element: SE:SE     , E(t)_1\n",
      "element: I:I2      , p/I_2\n",
      "element: C:C3      , q/C_3\n",
      "element: R:R       , R_4*f_4\n",
      "element: C:C7      , q/C_7\n",
      "element: I:I8      , p/I_8\n"
     ]
    }
   ],
   "source": [
    "for ename in e1s:\n",
    "    bs = bgsys.get_elem_bonds(ename)\n",
    "    e = get_elem_from_name(ename, bs)\n",
    "    print(f'element: {str(e):10s}, {e.value}')\n",
    "    bgsys.update_ef_dicts(e, bs[0])"
   ]
  },
  {
   "cell_type": "code",
   "execution_count": 9,
   "metadata": {},
   "outputs": [
    {
     "name": "stdout",
     "output_type": "stream",
     "text": [
      "e_1 E(t)_1\n",
      "f_2 p/I_2\n",
      "e_3 q/C_3\n",
      "e_4 R_4*f_4\n",
      "e_7 q/C_7\n",
      "f_8 p/I_8\n"
     ]
    }
   ],
   "source": [
    "for k,v in bgsys.ef_dict.items():\n",
    "    print(k, v)"
   ]
  },
  {
   "cell_type": "markdown",
   "metadata": {},
   "source": [
    "### Loop over 2 port elements\n",
    "$ \\leftharpoonup TF \\leftharpoonup$"
   ]
  },
  {
   "cell_type": "code",
   "execution_count": 10,
   "metadata": {},
   "outputs": [
    {
     "name": "stdout",
     "output_type": "stream",
     "text": [
      "element: TF:TF_m   , TF_m.m\n",
      "[1J   ] | __ 5__>  [TF_m ] [TF_m ] | __ 6__>  [0J   ]\n",
      "e_1 E(t)_1\n",
      "f_2 p/I_2\n",
      "e_3 q/C_3\n",
      "e_4 R_4*f_4\n",
      "e_7 q/C_7\n",
      "f_8 p/I_8\n",
      "e_5 TF_m.m*e_6\n",
      "f_6 TF_m.m*f_5\n"
     ]
    }
   ],
   "source": [
    "e2s = bgsys.get_two_ports()\n",
    "#print(e2s)\n",
    "\n",
    "for ename in e2s:\n",
    "    bs = bgsys.get_elem_bonds(ename)\n",
    "    e = get_elem_from_name(ename, bs)\n",
    "    print(f'element: {str(e):10s}, {e.value}')\n",
    "    print(bs[0], bs[1])\n",
    "    bgsys.update_ef_dicts(e, bs[0])\n",
    "    bgsys.update_ef_dicts(e, bs[1])\n",
    "    \n",
    "for k,v in bgsys.ef_dict.items():\n",
    "    print(k, v)"
   ]
  },
  {
   "cell_type": "markdown",
   "metadata": {},
   "source": [
    "### Loop over Multi-Ports\n",
    "\n",
    "$\\hspace{5.5mm}  \\upharpoonright $\\\n",
    "$ \\leftharpoonup  0 \\rightharpoonup$\\\n",
    "$\\hspace{5.5mm}  \\downharpoonleft $"
   ]
  },
  {
   "cell_type": "code",
   "execution_count": 11,
   "metadata": {},
   "outputs": [
    {
     "name": "stdout",
     "output_type": "stream",
     "text": [
      "element: 1J:1J     \n",
      "[1J   ] |<__ 1__   [SE   ] b.f_1 = f_2\n",
      "[1J   ]   __ 2__>| [I2   ] b.f_2 = f_2\n",
      "[1J   ] | __ 3__>  [C3   ] b.f_3 = f_2\n",
      "[1J   ] | __ 4__>  [R    ] b.f_4 = f_2\n",
      "[1J   ] | __ 5__>  [TF_m ] b.f_5 = f_2\n",
      "[1J   ] |<__ 1__   [SE   ] b.e_1 = -( - e_2 - e_3 - e_4 - e_5)\n",
      "[1J   ]   __ 2__>| [I2   ] b.e_2 =  + e_1 - e_3 - e_4 - e_5\n",
      "[1J   ] | __ 3__>  [C3   ] b.e_3 =  + e_1 - e_2 - e_4 - e_5\n",
      "[1J   ] | __ 4__>  [R    ] b.e_4 =  + e_1 - e_2 - e_3 - e_5\n",
      "[1J   ] | __ 5__>  [TF_m ] b.e_5 =  + e_1 - e_2 - e_3 - e_4\n",
      "element: 0J:0J     \n",
      "[0J   ]  <__ 6__ | [TF_m ] b.f_6 = -( - f_7 - f_8)\n",
      "[0J   ] | __ 7__>  [C7   ] b.f_7 =  + f_6 - f_8\n",
      "[0J   ]   __ 8__>| [I8   ] b.f_8 =  + f_6 - f_7\n",
      "[0J   ]  <__ 6__ | [TF_m ] b.e_6 = e_7\n",
      "[0J   ] | __ 7__>  [C7   ] b.e_7 = e_7\n",
      "[0J   ]   __ 8__>| [I8   ] b.e_8 = e_7\n",
      "e_1: E(t)_1\n",
      "f_2: p/I_2\n",
      "e_3: q/C_3\n",
      "e_4: R_4*f_4\n",
      "e_7: q/C_7\n",
      "f_8: p/I_8\n",
      "e_5: TF_m.m*e_6\n",
      "f_6: TF_m.m*f_5\n",
      "f_1: f_2\n",
      "e_2:  + e_1 - e_3 - e_4 - e_5\n",
      "f_3: f_2\n",
      "f_4: f_2\n",
      "f_5: f_2\n",
      "e_6: e_7\n",
      "f_7:  + f_6 - f_8\n",
      "e_8: e_7\n"
     ]
    }
   ],
   "source": [
    "ems = bgsys.get_multi_ports()\n",
    "#print(ems)\n",
    "\n",
    "for ename in ems:\n",
    "    bs = bgsys.get_elem_bonds(ename)\n",
    "    e = get_elem_from_name(ename, bs)\n",
    "    print(f'element: {str(e):10s}')\n",
    "    for b in bs:\n",
    "        if b.nls == ename:\n",
    "            #print(b            , f'b.e_{b.num} = {b.e}')\n",
    "            print(b            , f'b.f_{b.num} = {b.f}')\n",
    "        else:\n",
    "            #print(b.print_rev(), f'b.e_{b.num} = {b.e}')\n",
    "            print(b.print_rev(), f'b.f_{b.num} = {b.f}')\n",
    "    for b in bs:\n",
    "        if b.nls == ename:\n",
    "            print(b            , f'b.e_{b.num} = {b.e}')\n",
    "            #print(b            , f'b.f_{b.num} = {b.f}')\n",
    "        else:\n",
    "            print(b.print_rev(), f'b.e_{b.num} = {b.e}')\n",
    "            #print(b.print_rev(), f'b.f_{b.num} = {b.f}')\n",
    "    bgsys.update_ef_dicts_mp(e, bs)\n",
    "    \n",
    "for k,v in bgsys.ef_dict.items():\n",
    "    if k == v:\n",
    "        v = ''\n",
    "    print(f'{k}: {v}')"
   ]
  },
  {
   "cell_type": "markdown",
   "metadata": {},
   "source": [
    "## Substitute known keys"
   ]
  },
  {
   "cell_type": "code",
   "execution_count": 12,
   "metadata": {},
   "outputs": [
    {
     "name": "stdout",
     "output_type": "stream",
     "text": [
      "e_1: E(t)_1\n",
      "f_2: p/I_2\n",
      "e_3: q/C_3\n",
      "e_4: R_4*p/I_2\n",
      "e_7: q/C_7\n",
      "f_8: p/I_8\n",
      "e_5: TF_m.m*q/C_7\n",
      "f_6: TF_m.m*p/I_2\n",
      "f_1: p/I_2\n",
      "e_2:  + E(t)_1 - q/C_3 - R_4*p/I_2 - TF_m.m*q/C_7\n",
      "f_3: p/I_2\n",
      "f_4: p/I_2\n",
      "f_5: p/I_2\n",
      "e_6: q/C_7\n",
      "f_7:  + TF_m.m*p/I_2 - p/I_8\n",
      "e_8: q/C_7\n"
     ]
    }
   ],
   "source": [
    "bgsys.sub_ef_dict_vals()\n",
    "for k,v in bgsys.ef_dict.items():\n",
    "    if k == v:\n",
    "        v = ''\n",
    "    print(f'{k}: {v}')"
   ]
  },
  {
   "cell_type": "markdown",
   "metadata": {},
   "source": [
    "### Find what IC elements get"
   ]
  },
  {
   "cell_type": "code",
   "execution_count": 54,
   "metadata": {},
   "outputs": [
    {
     "name": "stdout",
     "output_type": "stream",
     "text": [
      "bond: [I2   ] |<__ 2__   [1J   ] element: I:I2      , gives [f]: p/I_2      gets [pdot = e]:  + E(t)_1 - q/C_3 - R_4*p/I_2 - TF_m.m*q/C_7\n",
      "bond: [C3   ]  <__ 3__ | [1J   ] element: C:C3      , gives [e]: q/C_3      gets [qdot = f]: p/I_2\n",
      "bond: [C7   ]  <__ 7__ | [0J   ] element: C:C7      , gives [e]: q/C_7      gets [qdot = f]:  + TF_m.m*p/I_2 - p/I_8\n",
      "bond: [I8   ] |<__ 8__   [0J   ] element: I:I8      , gives [f]: p/I_8      gets [pdot = e]: q/C_7\n"
     ]
    }
   ],
   "source": [
    "for ename in e1s:\n",
    "    bs = bgsys.get_elem_bonds(ename)\n",
    "    b = bs[0]\n",
    "    e = get_elem_from_name(ename,bs)\n",
    "    if e.etype == 'I' or e.etype == 'C':\n",
    "        eqn = bgsys.get_elem_eqn(ename)\n",
    "        bstr = f'{b}'\n",
    "        gets = elem_gets(ename, b)\n",
    "        gives = elem_gives(ename, b)\n",
    "        getstr = 'pdot = '\n",
    "        if gets == 'f':\n",
    "            getstr = 'qdot = '\n",
    "        getstr += gets\n",
    "        if b.nls != ename:\n",
    "            bstr = f'{b.print_rev()}'\n",
    "        print(f'bond: {bstr} element: {str(e):10s}, gives [{gives}]: {e.value:10s} gets [{getstr}]: {eqn}')"
   ]
  },
  {
   "cell_type": "code",
   "execution_count": 14,
   "metadata": {},
   "outputs": [
    {
     "name": "stdout",
     "output_type": "stream",
     "text": [
      "False\n"
     ]
    }
   ],
   "source": [
    "key  = 'f_7'\n",
    "if key not in bgsys.ef_dict.keys():\n",
    "    print(True)\n",
    "else:\n",
    "    print(False)"
   ]
  },
  {
   "cell_type": "code",
   "execution_count": 15,
   "metadata": {},
   "outputs": [],
   "source": [
    "tdict = {\n",
    "    'e1' : 'E(t)',\n",
    "    'e2' : '2*e4',\n",
    "    'e3' : '+(e1 - e2)',\n",
    "    'e4' : 'R',\n",
    "}"
   ]
  },
  {
   "cell_type": "code",
   "execution_count": 16,
   "metadata": {},
   "outputs": [
    {
     "name": "stdout",
     "output_type": "stream",
     "text": [
      "e1: E(t)\n",
      "e2: 2*R\n",
      "e3: +(E(t) - 2*R)\n",
      "e4: R\n"
     ]
    }
   ],
   "source": [
    "# substitute known values into other key's definitions\n",
    "for sk,sv in tdict.items():\n",
    "    for k,v in tdict.items():\n",
    "        tdict[k] = v.replace(sk,sv)\n",
    "\n",
    "for k,v in tdict.items():\n",
    "    print(f'{k}: {v}')"
   ]
  },
  {
   "cell_type": "code",
   "execution_count": 17,
   "metadata": {},
   "outputs": [],
   "source": [
    "ename = 'I2'\n",
    "b = bgsys.get_elem_bonds(ename)\n",
    "e = get_elem_from_name(ename, b)"
   ]
  },
  {
   "cell_type": "code",
   "execution_count": 18,
   "metadata": {},
   "outputs": [
    {
     "name": "stdout",
     "output_type": "stream",
     "text": [
      "p/I_2\n"
     ]
    }
   ],
   "source": [
    "print(e.f)"
   ]
  },
  {
   "cell_type": "code",
   "execution_count": 19,
   "metadata": {},
   "outputs": [
    {
     "name": "stdout",
     "output_type": "stream",
     "text": [
      "elem type = SE\n",
      "elem type = I\n",
      "elem type = C\n",
      "elem type = R\n",
      "elem type = C\n",
      "elem type = I\n"
     ]
    }
   ],
   "source": [
    "# loop over 1 port elements\n",
    "for elem in e1s:\n",
    "    e = element(elem)\n",
    "    print(f'elem type = {e.etype}')\n",
    "    if e.etype == 'SE':\n",
    "        b = bgsys.get_elem_bonds(ename)[0]\n",
    "        e = elem_SE(elem, b)"
   ]
  },
  {
   "cell_type": "code",
   "execution_count": null,
   "metadata": {},
   "outputs": [],
   "source": []
  },
  {
   "cell_type": "code",
   "execution_count": 20,
   "metadata": {},
   "outputs": [
    {
     "name": "stdout",
     "output_type": "stream",
     "text": [
      "[I2   ] |<__ 2__   [1J   ]\n",
      "csl =|||\n",
      "pel =|<|\n",
      "   |12345|\n",
      "NL |I2|\n",
      "NR |1J|\n",
      "num| 2|\n",
      "i think i got: bond(2, I2, 1J, L, L)\n"
     ]
    }
   ],
   "source": [
    "bond = bonds[1]\n",
    "bs  = bond.__str__()\n",
    "\n",
    "csl = bs[8]\n",
    "pel = bs[9]\n",
    "if csl == '|':\n",
    "  cs_dir = 'L'\n",
    "else:\n",
    "  cs_dir = 'R'\n",
    "\n",
    "if pel == '<':\n",
    "  pe_dir = 'L'\n",
    "else:\n",
    "  pe_dir = 'R'\n",
    "\n",
    "num = int(bs.split('__')[1])\n",
    "NL = bs[1:6].strip()\n",
    "NR = bs[-6:-1].strip()\n",
    "\n",
    "print(f'{bs}')\n",
    "print(f'csl =|{csl}|')\n",
    "print(f'pel =|{pel}|')\n",
    "print(f'   |12345|')\n",
    "print(f'NL |{NL}|')\n",
    "print(f'NR |{NR}|')\n",
    "print(f'num|{num:2d}|')\n",
    "\n",
    "print(f'i think i got: bond({num}, {NL}, {NR}, {cs_dir}, {pe_dir})')"
   ]
  },
  {
   "cell_type": "code",
   "execution_count": 21,
   "metadata": {},
   "outputs": [
    {
     "name": "stdout",
     "output_type": "stream",
     "text": [
      "[SE   ]   __ 1__>| [1J   ]\n"
     ]
    }
   ],
   "source": [
    "bondref = bonds[0]\n",
    "bondref_str = bondref.__str__()\n",
    "\n",
    "newbond = bond.from_bond_string(bondref_str)\n",
    "\n",
    "print(newbond)"
   ]
  },
  {
   "cell_type": "code",
   "execution_count": 22,
   "metadata": {},
   "outputs": [
    {
     "name": "stdout",
     "output_type": "stream",
     "text": [
      "[SE   ]   __ 1__>| [1J   ]\n",
      "[I2   ] |<__ 2__   [1J   ]\n",
      "[C3   ]  <__ 3__ | [1J   ]\n",
      "[1J   ] | __ 4__>  [R    ]\n",
      "[1J   ] | __ 5__>  [TF_m ]\n",
      "[TF_m ] | __ 6__>  [0J   ]\n",
      "[0J   ] | __ 7__>  [C7   ]\n",
      "[0J   ]   __ 8__>| [I8   ]\n",
      "SE ['1J']\n",
      "1J ['SE', 'I2', 'C3', 'R', 'TF_m']\n",
      "I2 ['1J']\n",
      "C3 ['1J']\n",
      "R ['1J']\n",
      "TF_m ['1J', '0J']\n",
      "0J ['TF_m', 'C7', 'I8']\n",
      "C7 ['0J']\n",
      "I8 ['0J']\n"
     ]
    }
   ],
   "source": [
    "bdict = {}\n",
    "for bond in bonds:\n",
    "    nls = bond.nls\n",
    "    nrs = bond.nrs\n",
    "    if nls in bdict:\n",
    "        bdict[nls].append(nrs)\n",
    "    else:\n",
    "        bdict.setdefault(nls,[])\n",
    "        bdict[nls].append(nrs)\n",
    "    \n",
    "    if nrs in bdict:\n",
    "        bdict[nrs].append(nls)\n",
    "    else:\n",
    "        bdict.setdefault(nrs,[])\n",
    "        bdict[nrs].append(nls)\n",
    "        \n",
    "    print(bond)\n",
    "\n",
    "for k, v in bdict.items():\n",
    "    print(k,v)"
   ]
  },
  {
   "cell_type": "code",
   "execution_count": 23,
   "metadata": {},
   "outputs": [],
   "source": [
    "#bdict"
   ]
  },
  {
   "cell_type": "code",
   "execution_count": 24,
   "metadata": {},
   "outputs": [],
   "source": [
    "#bgsys.elem_nbrs"
   ]
  },
  {
   "cell_type": "code",
   "execution_count": 25,
   "metadata": {},
   "outputs": [],
   "source": [
    "import networkx as nx\n",
    "import matplotlib.pylab as plt"
   ]
  },
  {
   "cell_type": "code",
   "execution_count": 26,
   "metadata": {},
   "outputs": [],
   "source": [
    "graph_dict = {\n",
    "    'A' : ['B', 'S'],\n",
    "    'B' : ['A'],\n",
    "    'C' : ['D','E','F','S'],\n",
    "    'D' : ['C'],\n",
    "    'E' : ['C','H'],\n",
    "    'F' : ['C','G'],\n",
    "    'G' : ['F','S'],\n",
    "    'H' : ['E','G'],\n",
    "    'S' : ['A','C' 'G'],\n",
    "}"
   ]
  },
  {
   "cell_type": "code",
   "execution_count": 27,
   "metadata": {},
   "outputs": [],
   "source": [
    "#G['TF.Ab']['1J-5']['color'] = 'red'\n",
    "G = nx.Graph(bdict)"
   ]
  },
  {
   "cell_type": "code",
   "execution_count": 28,
   "metadata": {},
   "outputs": [],
   "source": [
    "#bonds"
   ]
  },
  {
   "cell_type": "code",
   "execution_count": 29,
   "metadata": {},
   "outputs": [
    {
     "name": "stdout",
     "output_type": "stream",
     "text": [
      "__________________\n",
      "SE   -1J    pair belong to bond #1\n",
      "__________________\n",
      "1J   -SE    pair belong to bond #1\n",
      "1J   -I2    pair belong to bond #2\n",
      "1J   -C3    pair belong to bond #3\n",
      "1J   -R     pair belong to bond #4\n",
      "1J   -TF_m  pair belong to bond #5\n",
      "__________________\n",
      "I2   -1J    pair belong to bond #2\n",
      "__________________\n",
      "C3   -1J    pair belong to bond #3\n",
      "__________________\n",
      "R    -1J    pair belong to bond #4\n",
      "__________________\n",
      "TF_m -1J    pair belong to bond #5\n",
      "TF_m -0J    pair belong to bond #6\n",
      "__________________\n",
      "0J   -TF_m  pair belong to bond #6\n",
      "0J   -C7    pair belong to bond #7\n",
      "0J   -I8    pair belong to bond #8\n",
      "__________________\n",
      "C7   -0J    pair belong to bond #7\n",
      "__________________\n",
      "I8   -0J    pair belong to bond #8\n"
     ]
    }
   ],
   "source": [
    "for n in list(G.nodes):\n",
    "    print(f'__________________')\n",
    "    #fstr = \"\"\n",
    "    #print(f'{n:5s}: {G.adj[n]}')\n",
    "    for nbr in G.adj[n]:\n",
    "        for bond in bonds:\n",
    "            if bond.nrs == n and bond.nls == nbr:\n",
    "                print(f'{n:5s}-{nbr:5s} pair belong to bond #{bond.num}')\n",
    "                G[n][nbr]['bond_num'] = bond.num\n",
    "            elif bond.nls == n and bond.nrs == nbr:\n",
    "                print(f'{n:5s}-{nbr:5s} pair belong to bond #{bond.num}')\n",
    "                G[n][nbr]['bond_num'] = bond.num\n",
    "    #    fstr += f'|{nbr:5s}| '\n",
    "    #print(f'{n:5s} with friends: {fstr}')\n",
    "#for e in list(G.edges):"
   ]
  },
  {
   "cell_type": "code",
   "execution_count": 30,
   "metadata": {},
   "outputs": [
    {
     "name": "stdout",
     "output_type": "stream",
     "text": [
      "-1\n"
     ]
    }
   ],
   "source": [
    "num = bgsys.get_bond_num('Rv20', '1J-6')\n",
    "print(num)\n",
    "\n",
    "for bond in bgsys.bonds:\n",
    "    if bond.num == num:\n",
    "        print(bond)"
   ]
  },
  {
   "cell_type": "code",
   "execution_count": 31,
   "metadata": {},
   "outputs": [
    {
     "name": "stdout",
     "output_type": "stream",
     "text": [
      "None\n"
     ]
    }
   ],
   "source": [
    "b = bgsys.get_bond_bynum(21)\n",
    "print(b)"
   ]
  },
  {
   "cell_type": "code",
   "execution_count": 32,
   "metadata": {},
   "outputs": [
    {
     "data": {
      "text/plain": [
       "[('SE', '1J'),\n",
       " ('1J', 'I2'),\n",
       " ('1J', 'C3'),\n",
       " ('1J', 'R'),\n",
       " ('1J', 'TF_m'),\n",
       " ('TF_m', '0J'),\n",
       " ('0J', 'C7'),\n",
       " ('0J', 'I8')]"
      ]
     },
     "execution_count": 32,
     "metadata": {},
     "output_type": "execute_result"
    }
   ],
   "source": [
    "list(G.edges())"
   ]
  },
  {
   "cell_type": "code",
   "execution_count": 33,
   "metadata": {},
   "outputs": [],
   "source": [
    "def get_bond(bond_num, bondlist):\n",
    "    for bond in bondlist:\n",
    "        if bond_num == bond.num:\n",
    "            return bond\n",
    "    return None"
   ]
  },
  {
   "cell_type": "code",
   "execution_count": 34,
   "metadata": {},
   "outputs": [
    {
     "data": {
      "text/plain": [
       "-1"
      ]
     },
     "execution_count": 34,
     "metadata": {},
     "output_type": "execute_result"
    }
   ],
   "source": [
    "bgsys.get_bond_num('I','1J-5')"
   ]
  },
  {
   "cell_type": "code",
   "execution_count": 35,
   "metadata": {},
   "outputs": [
    {
     "name": "stdout",
     "output_type": "stream",
     "text": [
      "None\n"
     ]
    }
   ],
   "source": [
    "print(bgsys.get_bond('I','1J-5'))"
   ]
  },
  {
   "cell_type": "code",
   "execution_count": 36,
   "metadata": {},
   "outputs": [
    {
     "name": "stdout",
     "output_type": "stream",
     "text": [
      "SE    has nb = 1J, connected via bond: [SE   ]   __ 1__>| [1J   ]\n"
     ]
    }
   ],
   "source": [
    "# get the single port elements\n",
    "sp = bgsys.get_single_ports()\n",
    "\n",
    "# loop over single port elements\n",
    "for e in sp:\n",
    "    if e.startswith('SE'):\n",
    "        # get neibors of sp element\n",
    "        nb = bgsys.get_nbrs(e)[0]\n",
    "        # get bond associated with these two elements\n",
    "        bond = bgsys.get_bond(e,nb)\n",
    "        print(f'{e:5s} has nb = {nb}, connected via bond: {bond}')"
   ]
  },
  {
   "cell_type": "code",
   "execution_count": 37,
   "metadata": {},
   "outputs": [
    {
     "name": "stderr",
     "output_type": "stream",
     "text": [
      "C:\\Users\\flyntga\\AppData\\Local\\Continuum\\anaconda3\\lib\\site-packages\\networkx\\drawing\\nx_pylab.py:579: MatplotlibDeprecationWarning: \n",
      "The iterable function was deprecated in Matplotlib 3.1 and will be removed in 3.3. Use np.iterable instead.\n",
      "  if not cb.iterable(width):\n"
     ]
    },
    {
     "data": {
      "image/png": "[encoded data removed]",
      "text/plain": [
       "<Figure size 432x288 with 1 Axes>"
      ]
     },
     "metadata": {},
     "output_type": "display_data"
    }
   ],
   "source": [
    "#G = nx.Graph(graph_dict)\n",
    "\n",
    "options = {\n",
    "    'node_size' : 700,\n",
    "    'width': 3,\n",
    "}\n",
    "pos = nx.spring_layout(G)\n",
    "nx.draw_networkx_nodes( G,pos, **options)\n",
    "nx.draw_networkx_edges( G,pos, **options)\n",
    "nx.draw_networkx_labels(G,pos, **options)\n",
    "\n",
    "plt.show()"
   ]
  },
  {
   "cell_type": "code",
   "execution_count": 38,
   "metadata": {},
   "outputs": [
    {
     "data": {
      "text/plain": [
       "['SE', '1J', 'I2', 'C3', 'R', 'TF_m', '0J', 'C7', 'I8']"
      ]
     },
     "execution_count": 38,
     "metadata": {},
     "output_type": "execute_result"
    }
   ],
   "source": [
    "list(G.nodes)"
   ]
  },
  {
   "cell_type": "code",
   "execution_count": 39,
   "metadata": {},
   "outputs": [
    {
     "ename": "TypeError",
     "evalue": "__init__() missing 1 required positional argument: 'bond'",
     "output_type": "error",
     "traceback": [
      "\u001b[1;31m---------------------------------------------------------------------------\u001b[0m",
      "\u001b[1;31mTypeError\u001b[0m                                 Traceback (most recent call last)",
      "\u001b[1;32m<ipython-input-39-fc461ebf5943>\u001b[0m in \u001b[0;36m<module>\u001b[1;34m\u001b[0m\n\u001b[0;32m      1\u001b[0m \u001b[0mb\u001b[0m \u001b[1;33m=\u001b[0m \u001b[0mbgsys\u001b[0m\u001b[1;33m.\u001b[0m\u001b[0mget_bond\u001b[0m\u001b[1;33m(\u001b[0m\u001b[1;34m'I'\u001b[0m\u001b[1;33m,\u001b[0m\u001b[1;34m'1J-5'\u001b[0m\u001b[1;33m)\u001b[0m\u001b[1;33m\u001b[0m\u001b[1;33m\u001b[0m\u001b[0m\n\u001b[1;32m----> 2\u001b[1;33m \u001b[0melem\u001b[0m \u001b[1;33m=\u001b[0m \u001b[0melem_I\u001b[0m\u001b[1;33m(\u001b[0m\u001b[1;34m'I'\u001b[0m\u001b[1;33m)\u001b[0m\u001b[1;33m\u001b[0m\u001b[1;33m\u001b[0m\u001b[0m\n\u001b[0m",
      "\u001b[1;31mTypeError\u001b[0m: __init__() missing 1 required positional argument: 'bond'"
     ]
    }
   ],
   "source": [
    "b = bgsys.get_bond('I','1J-5')\n",
    "elem = elem_I('I')"
   ]
  },
  {
   "cell_type": "code",
   "execution_count": null,
   "metadata": {},
   "outputs": [],
   "source": [
    "print(elem)"
   ]
  },
  {
   "cell_type": "code",
   "execution_count": null,
   "metadata": {},
   "outputs": [],
   "source": [
    "b = bgsys.get_bond_bynum(7)\n",
    "print(f'bond# {b.num} : e = {b.e}')\n",
    "print(f'bond# {b.num} : f = {b.f}')"
   ]
  },
  {
   "cell_type": "code",
   "execution_count": null,
   "metadata": {},
   "outputs": [],
   "source": [
    "two_port_elems = bgsys.get_two_ports()"
   ]
  },
  {
   "cell_type": "code",
   "execution_count": null,
   "metadata": {},
   "outputs": [],
   "source": [
    "for e in two_port_elems:\n",
    "    nbrs = bgsys.get_nbrs(e)\n",
    "    for nbr in nbrs:\n",
    "        b = bgsys.get_bond(e, nbr)\n",
    "        print(f'found e:{e}, nbr: {nbr} bond: {b}')"
   ]
  },
  {
   "cell_type": "code",
   "execution_count": null,
   "metadata": {},
   "outputs": [],
   "source": [
    "for e in two_port_elems:\n",
    "    bonds = bgsys.get_elem_bonds(e)\n",
    "    TFelem = elem_TF(e,bonds[0],bonds[1])\n",
    "    print(TFelem)\n",
    "    print(TFelem.p1['b'], TFelem.p2['b'])\n",
    "    print(f\"p1.e = {TFelem.p1['e']}\")\n",
    "    print(f\"p1.b.e {TFelem.p1['b'].e}\")\n",
    "    print(f\"p2.e = {TFelem.p2['e']}\")\n",
    "    print(f\"p2.b.e {TFelem.p2['b'].e}\")\n",
    "    print(f\"p1.f = {TFelem.p1['f']}\")\n",
    "    print(f\"p1.b.f {TFelem.p1['b'].f}\")\n",
    "    print(f\"p2.f = {TFelem.p2['f']}\")\n",
    "    print(f\"p2.b.f {TFelem.p2['b'].f}\")\n",
    "    print()\n",
    "\n",
    "b = bgsys.get_bond_bynum(7)\n",
    "print(f\"b.e = {b.e}\")\n",
    "print(f\"b.f = {b.f}\")"
   ]
  },
  {
   "cell_type": "code",
   "execution_count": null,
   "metadata": {},
   "outputs": [],
   "source": [
    "e = '0J'\n",
    "bonds = bgsys.get_elem_bonds(e)\n",
    "sb = bonds[0]\n",
    "for bond in bonds:\n",
    "    if bond.nls == e:\n",
    "        print(bond)\n",
    "    else:\n",
    "        print(bond.print_rev())\n",
    "    if bond.nls == e:\n",
    "        if bond.csd == 'L':\n",
    "            sb = bond\n",
    "    else:\n",
    "        if bond.csd == 'R':\n",
    "            sb = bond\n",
    "\n",
    "print(f'strong bond is: {sb}')\n",
    "print(f'sb.e = {sb.e}')"
   ]
  },
  {
   "cell_type": "code",
   "execution_count": null,
   "metadata": {},
   "outputs": [],
   "source": [
    "e = '1J'\n",
    "bonds = bgsys.get_elem_bonds(e)\n",
    "e0j = elem_1J(e, bonds)\n",
    "print(f'strong bond is {e0j.sb}')\n",
    "e0j.print_bonds()"
   ]
  },
  {
   "cell_type": "code",
   "execution_count": null,
   "metadata": {},
   "outputs": [],
   "source": [
    "for b in bonds:\n",
    "    pin = b.is_ped_into_elem(e)\n",
    "    if b.nls == e:\n",
    "        print(f'bond: {b} nls= {b.nls:5s}, b.e = {b.e}')\n",
    "        #print(f'bond: {b} nls= {b.nls}, b.f = {b.f}')\n",
    "    else:\n",
    "        print(f'bond: {b.print_rev()} nls= {b.nls:5s}, b.e = {b.e}')\n",
    "        #print(f'bond: {b.print_rev()} nls= {b.nls}, b.f = {b.f}')\n",
    "    \n",
    "    # if b.nls == e and b.ped == 'L':\n",
    "    #     print(f'bond {b.num} pwrIN=1')\n",
    "    # if b.nrs == e and b.ped == 'R':\n",
    "    #     print(f'bond {b.num} pwrIN=1')"
   ]
  },
  {
   "cell_type": "code",
   "execution_count": null,
   "metadata": {},
   "outputs": [],
   "source": [
    "e = 'TF_m'\n",
    "\n",
    "p1 = {\n",
    "    'e' : e+'.'+'p1.e',\n",
    "    'f' : e+'.'+'p1.f',\n",
    "}\n",
    "p2 = {\n",
    "    'e' : e+'.'+'p2.e',\n",
    "    'f' : e+'.'+'p2.f',\n",
    "}\n",
    "\n",
    "bonds = bgsys.get_elem_bonds(e)\n",
    "p2['b'] = bonds[0]\n",
    "p1['b'] = bonds[1]\n",
    "\n",
    "if p1['b'].nls == e:\n",
    "    print(f\"{p1['b'].print_rev()} --> {p2['b'].print_rev()}\")\n",
    "else:\n",
    "    print(f\"{p1['b']} --> {p2['b']}\")\n",
    "\n",
    "\n",
    "#for b in bonds:\n",
    "# check port 1's bond only?? i think\n",
    "b = p1['b']\n",
    "print('---------------')\n",
    "if b.nls == e:\n",
    "    print(b.print_rev())\n",
    "else:\n",
    "    print(b)\n",
    "print()\n",
    "\n",
    "# work with our TF elem on the right side\n",
    "if b.nrs == e:\n",
    "    print(f'[OK] NODE R is {e}')\n",
    "    # check causal stroke direction\n",
    "    print(f'CS dir = {b.csd}')\n",
    "    \n",
    "    if b.csd == 'L':\n",
    "        print('wow. Causal stroke is on the left!')\n",
    "        print('TF is getting flow from the 1st bond')\n",
    "        p2['f'] = 'm*' + p1['f']\n",
    "        p1['e'] = 'm*' + p2['e']\n",
    "    else:\n",
    "        print('wowzer. cs is on the Right')\n",
    "        print('TF is getting effort from the 1st bond')\n",
    "        p1['f'] = p2['f'] + '/m'\n",
    "        p2['e'] = p1['e'] + '/m'\n",
    "        \n",
    "# case where TF elem is on the left side\n",
    "else:\n",
    "    print(f'[OK] NODE L is {e}')\n",
    "    print(b)\n",
    "    # check causal stroke direction\n",
    "    print(f'CS dir = {b.csd}')\n",
    "    if b.csd == 'L':\n",
    "        print('wow. Causal stroke is on the left!')\n",
    "        print('TF is giving flow to the 1st bond')\n",
    "        p1['f'] = p2['f'] + '/m'\n",
    "        p2['e'] = p1['e'] + '/m'\n",
    "    else:\n",
    "        print('wowzer. cs is on the Right')\n",
    "        print('TF is giving effort to the 1st bond')\n",
    "        p2['f'] = 'm*' + p1['f']\n",
    "        p1['e'] = 'm*' + p2['e']\n"
   ]
  },
  {
   "cell_type": "code",
   "execution_count": null,
   "metadata": {},
   "outputs": [],
   "source": [
    "print(f\"p1['e'] = {p1['e']}\")\n",
    "print(f\"p2['e'] = {p2['e']}\")\n",
    "print(f\"p1['f'] = {p1['f']}\")\n",
    "print(f\"p2['f'] = {p2['f']}\")"
   ]
  },
  {
   "cell_type": "code",
   "execution_count": null,
   "metadata": {},
   "outputs": [],
   "source": [
    "R = elem_R('R')\n",
    "print(R)\n",
    "print(f'   e = {R.e}')\n",
    "print(f'   f = {R.f}')"
   ]
  },
  {
   "cell_type": "code",
   "execution_count": null,
   "metadata": {},
   "outputs": [],
   "source": [
    "C = elem_C('C7')\n",
    "print(C)\n",
    "print(f'   e = {C.e}')"
   ]
  },
  {
   "cell_type": "code",
   "execution_count": null,
   "metadata": {},
   "outputs": [],
   "source": [
    "elem = elem_SE('SE')\n",
    "print(elem)\n",
    "print(f'   e = {elem.e}')"
   ]
  }
 ],
 "metadata": {
  "kernelspec": {
   "display_name": "Python 3",
   "language": "python",
   "name": "python3"
  },
  "language_info": {
   "codemirror_mode": {
    "name": "ipython",
    "version": 3
   },
   "file_extension": ".py",
   "mimetype": "text/x-python",
   "name": "python",
   "nbconvert_exporter": "python",
   "pygments_lexer": "ipython3",
   "version": "3.7.4"
  }
 },
 "nbformat": 4,
 "nbformat_minor": 4
}
